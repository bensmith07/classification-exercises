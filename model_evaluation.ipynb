{
 "cells": [
  {
   "cell_type": "code",
   "execution_count": 1,
   "id": "28c57e48",
   "metadata": {},
   "outputs": [],
   "source": [
    "# for vectorized operations\n",
    "import numpy as np\n",
    "\n",
    "# for dataframe manipulation\n",
    "import pandas as pd\n",
    "\n",
    "# for vizualizations\n",
    "import matplotlib.pyplot as plt\n",
    "import seaborn as sns\n",
    "\n",
    "# for statistical calculations\n",
    "import scipy.stats as stats\n",
    "\n",
    "# for obtaining stock datasets\n",
    "from pydataset import data\n",
    "\n",
    "# for manipulation of time data\n",
    "from datetime import date\n",
    "\n",
    "from sklearn.model_selection import train_test_split\n",
    "from sklearn.impute import SimpleImputer\n",
    "import sklearn as sk\n",
    "\n",
    "# filter out warnings\n",
    "import warnings\n",
    "warnings.filterwarnings('ignore')\n",
    "\n",
    "# our own functions for accessing our sql database\n",
    "from env import get_db_url, user, password, host\n",
    "\n",
    "# our own scripts\n",
    "import acquire\n",
    "import prepare\n",
    "import explore\n",
    "\n",
    "# pandas display preferences\n",
    "pd.set_option('display.max_columns', None)\n",
    "pd.set_option('display.precision', 3)\n",
    "#pd.option_context('display.max_rows', None)\n"
   ]
  },
  {
   "cell_type": "markdown",
   "id": "23fa53c5",
   "metadata": {},
   "source": [
    "### 2. Given the following confusion matrix, evaluate (by hand) the model's performance."
   ]
  },
  {
   "cell_type": "markdown",
   "id": "6a340df5",
   "metadata": {},
   "source": [
    "|               | pred dog   | pred cat   |\n",
    "|:------------  |-----------:|-----------:|\n",
    "| actual dog    |         46 |         7  |\n",
    "| actual cat    |         13 |         34 |"
   ]
  },
  {
   "cell_type": "code",
   "execution_count": 2,
   "id": "5cb1cbdc",
   "metadata": {},
   "outputs": [],
   "source": [
    "positive_case = 'dog'\n",
    "\n",
    "TP = 46\n",
    "FP = 13\n",
    "TN = 34\n",
    "FN = 7\n",
    "\n",
    "total_observations = TP + FP + TN + FN\n",
    "\n",
    "actual_positives = TP + FN\n",
    "\n",
    "predicted_positives = TP + FP\n",
    "\n",
    "correct_predictions = TP + TN"
   ]
  },
  {
   "cell_type": "code",
   "execution_count": 3,
   "id": "74f612cb",
   "metadata": {},
   "outputs": [
    {
     "data": {
      "text/plain": [
       "0.8"
      ]
     },
     "execution_count": 3,
     "metadata": {},
     "output_type": "execute_result"
    }
   ],
   "source": [
    "model_accuracy = correct_predictions / total_observations\n",
    "model_accuracy"
   ]
  },
  {
   "cell_type": "code",
   "execution_count": 4,
   "id": "65796cb0",
   "metadata": {},
   "outputs": [
    {
     "data": {
      "text/plain": [
       "0.8679245283018868"
      ]
     },
     "execution_count": 4,
     "metadata": {},
     "output_type": "execute_result"
    }
   ],
   "source": [
    "model_recall = TP / actual_positives\n",
    "model_recall"
   ]
  },
  {
   "cell_type": "code",
   "execution_count": 5,
   "id": "b4fd3893",
   "metadata": {},
   "outputs": [
    {
     "data": {
      "text/plain": [
       "0.7796610169491526"
      ]
     },
     "execution_count": 5,
     "metadata": {},
     "output_type": "execute_result"
    }
   ],
   "source": [
    "model_precision = TP / predicted_positives\n",
    "model_precision"
   ]
  },
  {
   "cell_type": "code",
   "execution_count": 6,
   "id": "7745f4a8",
   "metadata": {},
   "outputs": [],
   "source": [
    "# baseline will always predict positive (most common observation)"
   ]
  },
  {
   "cell_type": "code",
   "execution_count": 7,
   "id": "a2e3e342",
   "metadata": {},
   "outputs": [
    {
     "data": {
      "text/plain": [
       "0.53"
      ]
     },
     "execution_count": 7,
     "metadata": {},
     "output_type": "execute_result"
    }
   ],
   "source": [
    "baseline_accuracy = actual_positives / total_observations\n",
    "baseline_accuracy"
   ]
  },
  {
   "cell_type": "code",
   "execution_count": 8,
   "id": "593d97f6",
   "metadata": {},
   "outputs": [
    {
     "data": {
      "text/plain": [
       "1.0"
      ]
     },
     "execution_count": 8,
     "metadata": {},
     "output_type": "execute_result"
    }
   ],
   "source": [
    "baseline_recall = actual_positives / actual_positives\n",
    "baseline_recall"
   ]
  },
  {
   "cell_type": "code",
   "execution_count": 9,
   "id": "5e05baaa",
   "metadata": {},
   "outputs": [
    {
     "data": {
      "text/plain": [
       "0.46"
      ]
     },
     "execution_count": 9,
     "metadata": {},
     "output_type": "execute_result"
    }
   ],
   "source": [
    "baseline_precision =  TP / total_observations\n",
    "baseline_precision"
   ]
  },
  {
   "cell_type": "markdown",
   "id": "562ae345",
   "metadata": {},
   "source": [
    "#### In the context of this problem, what is a false positive?\n",
    "\n",
    "    a false positive is predicting that the animal is a dog when in actuality it is a cat.\n",
    "    \n",
    "#### In the context of this problem, what is a false negative?\n",
    "\n",
    "    a false negative is  predicting that the animal is a cat when in actuality it is a dog\n",
    "\n",
    "#### How would you describe this model?\n",
    "\n",
    "    This model's accuracy of 80% is 34% better than baseline. \n",
    "    The model's precision of 78% is 32% than baseline. \n",
    "    The model's recall is 87%. \n"
   ]
  },
  {
   "cell_type": "markdown",
   "id": "2ee970e3",
   "metadata": {},
   "source": [
    "### 3. You are working as a datascientist working for Codeup Cody Creator (C3 for short), a rubber-duck manufacturing plant.\n",
    "\n",
    "#### Unfortunately, some of the rubber ducks that are produced will have defects. Your team has built several models that try to predict those defects, and the data from their predictions can be found here.\n",
    "\n",
    "#### Use the predictions dataset and pandas to help answer the following questions:"
   ]
  },
  {
   "cell_type": "code",
   "execution_count": 10,
   "id": "54783c34",
   "metadata": {},
   "outputs": [],
   "source": [
    "df = pd.read_csv('c3.csv')"
   ]
  },
  {
   "cell_type": "markdown",
   "id": "2e143ee0",
   "metadata": {},
   "source": [
    "#### 3a. An internal team wants to investigate the cause of the manufacturing defects. They tell you that they want to identify as many of the ducks that have a defect as possible. Which evaluation metric would be appropriate here? Which model would be the best fit for this use case?"
   ]
  },
  {
   "cell_type": "code",
   "execution_count": 11,
   "id": "90a10765",
   "metadata": {},
   "outputs": [],
   "source": [
    "# recall is the most appropriate evaluation metric\n",
    "# Model 3 has the best recall (see below)"
   ]
  },
  {
   "cell_type": "code",
   "execution_count": 12,
   "id": "872ce80c",
   "metadata": {},
   "outputs": [
    {
     "data": {
      "text/html": [
       "<div>\n",
       "<style scoped>\n",
       "    .dataframe tbody tr th:only-of-type {\n",
       "        vertical-align: middle;\n",
       "    }\n",
       "\n",
       "    .dataframe tbody tr th {\n",
       "        vertical-align: top;\n",
       "    }\n",
       "\n",
       "    .dataframe thead th {\n",
       "        text-align: right;\n",
       "    }\n",
       "</style>\n",
       "<table border=\"1\" class=\"dataframe\">\n",
       "  <thead>\n",
       "    <tr style=\"text-align: right;\">\n",
       "      <th></th>\n",
       "      <th>actual</th>\n",
       "      <th>model1</th>\n",
       "      <th>model2</th>\n",
       "      <th>model3</th>\n",
       "    </tr>\n",
       "  </thead>\n",
       "  <tbody>\n",
       "    <tr>\n",
       "      <th>0</th>\n",
       "      <td>No Defect</td>\n",
       "      <td>No Defect</td>\n",
       "      <td>Defect</td>\n",
       "      <td>No Defect</td>\n",
       "    </tr>\n",
       "    <tr>\n",
       "      <th>1</th>\n",
       "      <td>No Defect</td>\n",
       "      <td>No Defect</td>\n",
       "      <td>Defect</td>\n",
       "      <td>Defect</td>\n",
       "    </tr>\n",
       "    <tr>\n",
       "      <th>2</th>\n",
       "      <td>No Defect</td>\n",
       "      <td>No Defect</td>\n",
       "      <td>Defect</td>\n",
       "      <td>No Defect</td>\n",
       "    </tr>\n",
       "  </tbody>\n",
       "</table>\n",
       "</div>"
      ],
      "text/plain": [
       "      actual     model1  model2     model3\n",
       "0  No Defect  No Defect  Defect  No Defect\n",
       "1  No Defect  No Defect  Defect     Defect\n",
       "2  No Defect  No Defect  Defect  No Defect"
      ]
     },
     "execution_count": 12,
     "metadata": {},
     "output_type": "execute_result"
    }
   ],
   "source": [
    "df.head(3)"
   ]
  },
  {
   "cell_type": "code",
   "execution_count": 13,
   "id": "a205e4e1",
   "metadata": {},
   "outputs": [],
   "source": [
    "model_1 = df[['actual', 'model1']].rename(columns={'model1': 'prediction'})\n",
    "model_1['baseline'] = model_1.actual.mode()[0]\n",
    "\n",
    "model_2 = df[['actual', 'model2']].rename(columns={'model2': 'prediction'})\n",
    "model_2['baseline'] = model_2.actual.mode()[0]\n",
    "\n",
    "\n",
    "model_3 = df[['actual', 'model3']].rename(columns={'model3': 'prediction'})\n",
    "model_3['baseline'] = model_3.actual.mode()[0]"
   ]
  },
  {
   "cell_type": "code",
   "execution_count": 14,
   "id": "327f00ec",
   "metadata": {},
   "outputs": [],
   "source": [
    "def evaluate_classifier(df, positive):\n",
    "\n",
    "    # accuracy -- overall hit rate\n",
    "    model_accuracy = (df.prediction == df.actual).mean()\n",
    "    baseline_accuracy = (df.baseline == df.actual).mean()\n",
    "\n",
    "    # precision -- how good are our positive predictions?\n",
    "    # precision -- model performance | predicted positive\n",
    "    subset = df[df.prediction == positive]\n",
    "    model_precision = (subset.prediction == subset.actual).mean()\n",
    "    subset = df[df.baseline == positive]\n",
    "    baseline_precision = (subset.baseline == subset.actual).mean()\n",
    "\n",
    "    # recall -- how good are we at detecting actual positives?\n",
    "    # recall -- model performance | actual positive\n",
    "    subset = df[df.actual == positive]\n",
    "    model_recall = (subset.prediction == subset.actual).mean()\n",
    "    baseline_recall = (subset.baseline == subset.actual).mean()\n",
    "\n",
    "    print(f'   model accuracy: {model_accuracy:.2%}')\n",
    "    print(f'baseline accuracy: {baseline_accuracy:.2%}')\n",
    "    print()\n",
    "    print(f'   model recall: {model_recall:.2%}')\n",
    "    print(f'baseline recall: {baseline_recall:.2%}')\n",
    "    print()\n",
    "    print(f'model precision: {model_precision:.2%}')\n",
    "    print(f'baseline precision: {baseline_precision:.2%}')\n",
    "\n"
   ]
  },
  {
   "cell_type": "code",
   "execution_count": 15,
   "id": "d30b6a3e",
   "metadata": {},
   "outputs": [
    {
     "name": "stdout",
     "output_type": "stream",
     "text": [
      "Model #1:\n",
      "\n",
      "   model accuracy: 95.00%\n",
      "baseline accuracy: 92.00%\n",
      "\n",
      "   model recall: 50.00%\n",
      "baseline recall: 0.00%\n",
      "\n",
      "model precision: 80.00%\n",
      "baseline precision: nan%\n",
      "\n",
      "------------------------------\n",
      "\n",
      "Model #2:\n",
      "\n",
      "   model accuracy: 56.00%\n",
      "baseline accuracy: 92.00%\n",
      "\n",
      "   model recall: 56.25%\n",
      "baseline recall: 0.00%\n",
      "\n",
      "model precision: 10.00%\n",
      "baseline precision: nan%\n",
      "\n",
      "------------------------------\n",
      "\n",
      "Model #3:\n",
      "\n",
      "   model accuracy: 55.50%\n",
      "baseline accuracy: 92.00%\n",
      "\n",
      "   model recall: 81.25%\n",
      "baseline recall: 0.00%\n",
      "\n",
      "model precision: 13.13%\n",
      "baseline precision: nan%\n",
      "\n",
      "------------------------------\n",
      "\n"
     ]
    }
   ],
   "source": [
    "models = [model_1, model_2, model_3]\n",
    "positive = 'Defect'\n",
    "\n",
    "line_break = ('\\n' + '-' * 30 + '\\n')\n",
    "\n",
    "for i, model in enumerate(models):\n",
    "    \n",
    "    model_number = i + 1\n",
    "    \n",
    "    print(f'Model #{model_number}:\\n')\n",
    "    evaluate_classifier(model, positive)\n",
    "    print(line_break)"
   ]
  },
  {
   "cell_type": "markdown",
   "id": "4b791041",
   "metadata": {},
   "source": [
    "#### 3b. Recently several stories in the local news have come out highlighting customers who received a rubber duck with a defect, and portraying C3 in a bad light. The PR team has decided to launch a program that gives customers with a defective duck a vacation to Hawaii. They need you to predict which ducks will have defects, but tell you they really don't want to accidentally give out a vacation package when the duck really doesn't have a defect. Which evaluation metric would be appropriate here? Which model would be the best fit for this use case?"
   ]
  },
  {
   "cell_type": "code",
   "execution_count": 16,
   "id": "e2f75ad8",
   "metadata": {},
   "outputs": [],
   "source": [
    "# precision is the most appropriate metric\n",
    "# Model 1 is the best fit for this use case (see above)"
   ]
  },
  {
   "cell_type": "markdown",
   "id": "98304321",
   "metadata": {},
   "source": [
    "#### 4. You are working as a data scientist for Gives You Paws ™, a subscription based service that shows you cute pictures of dogs or cats (or both for an additional fee)."
   ]
  },
  {
   "cell_type": "markdown",
   "id": "0f26db55",
   "metadata": {},
   "source": [
    "#### At Gives You Paws, anyone can upload pictures of their cats or dogs. The photos are then put through a two step process. First an automated algorithm tags pictures as either a cat or a dog (Phase I). Next, the photos that have been initially identified are put through another round of review, possibly with some human oversight, before being presented to the users (Phase II)."
   ]
  },
  {
   "cell_type": "markdown",
   "id": "28b2ad0a",
   "metadata": {},
   "source": [
    "#### Several models have already been developed with the data, and you can find their results here. Given this dataset, use pandas to create a baseline model (i.e. a model that just predicts the most common class) and answer the following questions:"
   ]
  },
  {
   "cell_type": "code",
   "execution_count": 17,
   "id": "be301eb3",
   "metadata": {},
   "outputs": [
    {
     "data": {
      "text/html": [
       "<div>\n",
       "<style scoped>\n",
       "    .dataframe tbody tr th:only-of-type {\n",
       "        vertical-align: middle;\n",
       "    }\n",
       "\n",
       "    .dataframe tbody tr th {\n",
       "        vertical-align: top;\n",
       "    }\n",
       "\n",
       "    .dataframe thead th {\n",
       "        text-align: right;\n",
       "    }\n",
       "</style>\n",
       "<table border=\"1\" class=\"dataframe\">\n",
       "  <thead>\n",
       "    <tr style=\"text-align: right;\">\n",
       "      <th></th>\n",
       "      <th>actual</th>\n",
       "      <th>model1</th>\n",
       "      <th>model2</th>\n",
       "      <th>model3</th>\n",
       "      <th>model4</th>\n",
       "    </tr>\n",
       "  </thead>\n",
       "  <tbody>\n",
       "    <tr>\n",
       "      <th>0</th>\n",
       "      <td>cat</td>\n",
       "      <td>cat</td>\n",
       "      <td>dog</td>\n",
       "      <td>cat</td>\n",
       "      <td>dog</td>\n",
       "    </tr>\n",
       "    <tr>\n",
       "      <th>1</th>\n",
       "      <td>dog</td>\n",
       "      <td>dog</td>\n",
       "      <td>cat</td>\n",
       "      <td>cat</td>\n",
       "      <td>dog</td>\n",
       "    </tr>\n",
       "    <tr>\n",
       "      <th>2</th>\n",
       "      <td>dog</td>\n",
       "      <td>cat</td>\n",
       "      <td>cat</td>\n",
       "      <td>cat</td>\n",
       "      <td>dog</td>\n",
       "    </tr>\n",
       "  </tbody>\n",
       "</table>\n",
       "</div>"
      ],
      "text/plain": [
       "  actual model1 model2 model3 model4\n",
       "0    cat    cat    dog    cat    dog\n",
       "1    dog    dog    cat    cat    dog\n",
       "2    dog    cat    cat    cat    dog"
      ]
     },
     "execution_count": 17,
     "metadata": {},
     "output_type": "execute_result"
    }
   ],
   "source": [
    "df = pd.read_csv('gives_you_paws.csv')\n",
    "df.head(3)"
   ]
  },
  {
   "cell_type": "code",
   "execution_count": 18,
   "id": "fd999d03",
   "metadata": {},
   "outputs": [],
   "source": [
    "df['baseline'] = df.actual.mode()[0]\n",
    "\n",
    "model_1 = df[['actual', 'model1', 'baseline']].rename(columns={'model1': 'prediction'})\n",
    "\n",
    "model_2 = df[['actual', 'model2', 'baseline']].rename(columns={'model2': 'prediction'})\n",
    "\n",
    "model_3 = df[['actual', 'model3', 'baseline']].rename(columns={'model3': 'prediction'})\n",
    "\n",
    "model_4 = df[['actual', 'model4', 'baseline']].rename(columns={'model4': 'prediction'})"
   ]
  },
  {
   "cell_type": "markdown",
   "id": "a4fcf368",
   "metadata": {},
   "source": [
    "#### 4a. In terms of accuracy, how do the various models compare to the baseline model? Are any of the models better than the baseline?"
   ]
  },
  {
   "cell_type": "code",
   "execution_count": 19,
   "id": "5fe701a8",
   "metadata": {},
   "outputs": [
    {
     "name": "stdout",
     "output_type": "stream",
     "text": [
      "Model #1:\n",
      "\n",
      "   model accuracy: 80.74%\n",
      "baseline accuracy: 65.08%\n",
      "\n",
      "   model recall: 80.33%\n",
      "baseline recall: 100.00%\n",
      "\n",
      "model precision: 89.00%\n",
      "baseline precision: 65.08%\n",
      "\n",
      "------------------------------\n",
      "\n",
      "Model #2:\n",
      "\n",
      "   model accuracy: 63.04%\n",
      "baseline accuracy: 65.08%\n",
      "\n",
      "   model recall: 49.08%\n",
      "baseline recall: 100.00%\n",
      "\n",
      "model precision: 89.32%\n",
      "baseline precision: 65.08%\n",
      "\n",
      "------------------------------\n",
      "\n",
      "Model #3:\n",
      "\n",
      "   model accuracy: 50.96%\n",
      "baseline accuracy: 65.08%\n",
      "\n",
      "   model recall: 50.86%\n",
      "baseline recall: 100.00%\n",
      "\n",
      "model precision: 65.99%\n",
      "baseline precision: 65.08%\n",
      "\n",
      "------------------------------\n",
      "\n",
      "Model #4:\n",
      "\n",
      "   model accuracy: 74.26%\n",
      "baseline accuracy: 65.08%\n",
      "\n",
      "   model recall: 95.57%\n",
      "baseline recall: 100.00%\n",
      "\n",
      "model precision: 73.12%\n",
      "baseline precision: 65.08%\n",
      "\n",
      "------------------------------\n",
      "\n"
     ]
    }
   ],
   "source": [
    "models = [model_1, model_2, model_3, model_4]\n",
    "positive = 'dog'\n",
    "\n",
    "line_break = ('\\n' + '-' * 30 + '\\n')\n",
    "\n",
    "for i, model in enumerate(models):\n",
    "    \n",
    "    model_number = i + 1\n",
    "    \n",
    "    print(f'Model #{model_number}:\\n')\n",
    "    evaluate_classifier(model, positive)\n",
    "    print(line_break)"
   ]
  },
  {
   "cell_type": "markdown",
   "id": "03ccf143",
   "metadata": {},
   "source": [
    "Model 1's accuracy is 14% better than baseline\n",
    "\n",
    "Model 2's accuracy is 2% lower than baseline\n",
    "\n",
    "Model 3's accuracy is 14% lower than baseline\n",
    "\n",
    "Model 4's accuracy is 9% higher than baseline"
   ]
  },
  {
   "cell_type": "markdown",
   "id": "2e76f73d",
   "metadata": {},
   "source": [
    "#### 4b. Suppose you are working on a team that solely deals with dog pictures. Which of these models would you recomend for Phase I? For Phase II?"
   ]
  },
  {
   "cell_type": "code",
   "execution_count": 20,
   "id": "6c40c951",
   "metadata": {},
   "outputs": [],
   "source": [
    "# i don't understand what is meant by \"a team that solely deals with dog pictures\"\n",
    "\n",
    "# does this mean they only receive dog pictures as input? - this wouldn't make sense - how would they know ahead \n",
    "# of time which pictures were dogs?\n",
    "\n",
    "# does this mean that once dogs are identified in phase I, they are sent to this team for further analysis\n",
    "# in phase II?"
   ]
  },
  {
   "cell_type": "markdown",
   "id": "9db0cfbe",
   "metadata": {},
   "source": [
    "#### 5. Apply the following functions to the data from the previous problem:\n",
    "\n",
    "\n",
    "    sklearn.metrics.accuracy_score\n",
    "    sklearn.metrics.precision_score\n",
    "    sklearn.metrics.recall_score\n",
    "    sklearn.metrics.classification_report\n"
   ]
  },
  {
   "cell_type": "code",
   "execution_count": 21,
   "id": "7548b63b",
   "metadata": {},
   "outputs": [
    {
     "data": {
      "text/html": [
       "<div>\n",
       "<style scoped>\n",
       "    .dataframe tbody tr th:only-of-type {\n",
       "        vertical-align: middle;\n",
       "    }\n",
       "\n",
       "    .dataframe tbody tr th {\n",
       "        vertical-align: top;\n",
       "    }\n",
       "\n",
       "    .dataframe thead th {\n",
       "        text-align: right;\n",
       "    }\n",
       "</style>\n",
       "<table border=\"1\" class=\"dataframe\">\n",
       "  <thead>\n",
       "    <tr style=\"text-align: right;\">\n",
       "      <th></th>\n",
       "      <th>actual</th>\n",
       "      <th>model1</th>\n",
       "      <th>model2</th>\n",
       "      <th>model3</th>\n",
       "      <th>model4</th>\n",
       "      <th>baseline</th>\n",
       "    </tr>\n",
       "  </thead>\n",
       "  <tbody>\n",
       "    <tr>\n",
       "      <th>0</th>\n",
       "      <td>cat</td>\n",
       "      <td>cat</td>\n",
       "      <td>dog</td>\n",
       "      <td>cat</td>\n",
       "      <td>dog</td>\n",
       "      <td>dog</td>\n",
       "    </tr>\n",
       "    <tr>\n",
       "      <th>1</th>\n",
       "      <td>dog</td>\n",
       "      <td>dog</td>\n",
       "      <td>cat</td>\n",
       "      <td>cat</td>\n",
       "      <td>dog</td>\n",
       "      <td>dog</td>\n",
       "    </tr>\n",
       "    <tr>\n",
       "      <th>2</th>\n",
       "      <td>dog</td>\n",
       "      <td>cat</td>\n",
       "      <td>cat</td>\n",
       "      <td>cat</td>\n",
       "      <td>dog</td>\n",
       "      <td>dog</td>\n",
       "    </tr>\n",
       "  </tbody>\n",
       "</table>\n",
       "</div>"
      ],
      "text/plain": [
       "  actual model1 model2 model3 model4 baseline\n",
       "0    cat    cat    dog    cat    dog      dog\n",
       "1    dog    dog    cat    cat    dog      dog\n",
       "2    dog    cat    cat    cat    dog      dog"
      ]
     },
     "execution_count": 21,
     "metadata": {},
     "output_type": "execute_result"
    }
   ],
   "source": [
    "df.head(3)"
   ]
  },
  {
   "cell_type": "code",
   "execution_count": 22,
   "id": "89d36dcc",
   "metadata": {},
   "outputs": [
    {
     "name": "stdout",
     "output_type": "stream",
     "text": [
      "model1\n",
      "\tAccuracy:\t0.8074\n",
      "\tPrecision:\t0.8900\n",
      "\tRecall:\t\t0.8033\n",
      "model2\n",
      "\tAccuracy:\t0.6304\n",
      "\tPrecision:\t0.8932\n",
      "\tRecall:\t\t0.4908\n",
      "model3\n",
      "\tAccuracy:\t0.5096\n",
      "\tPrecision:\t0.6599\n",
      "\tRecall:\t\t0.5086\n",
      "model4\n",
      "\tAccuracy:\t0.7426\n",
      "\tPrecision:\t0.7312\n",
      "\tRecall:\t\t0.9557\n",
      "baseline\n",
      "\tAccuracy:\t0.6508\n",
      "\tPrecision:\t0.6508\n",
      "\tRecall:\t\t1.0000\n"
     ]
    }
   ],
   "source": [
    "positive_label = 'dog'\n",
    "\n",
    "for col in df.drop(columns='actual'):\n",
    "    print(col)\n",
    "    print(f'\\tAccuracy:\\t{sk.metrics.accuracy_score(df.actual, df[col]):.4f}')\n",
    "    print(f'\\tPrecision:\\t{sk.metrics.precision_score(df.actual, df[col], pos_label=positive_label):.4f}')\n",
    "    print(f'\\tRecall:\\t\\t{sk.metrics.recall_score(df.actual, df[col], pos_label=positive_label):.4f}')\n"
   ]
  },
  {
   "cell_type": "code",
   "execution_count": 23,
   "id": "2372c17a",
   "metadata": {},
   "outputs": [
    {
     "name": "stdout",
     "output_type": "stream",
     "text": [
      "-------------------------------------------------------\n",
      "MODEL1\n",
      "              precision    recall  f1-score   support\n",
      "\n",
      "         cat       0.69      0.82      0.75      1746\n",
      "         dog       0.89      0.80      0.84      3254\n",
      "\n",
      "    accuracy                           0.81      5000\n",
      "   macro avg       0.79      0.81      0.80      5000\n",
      "weighted avg       0.82      0.81      0.81      5000\n",
      "\n",
      "-------------------------------------------------------\n",
      "MODEL2\n",
      "              precision    recall  f1-score   support\n",
      "\n",
      "         cat       0.69      0.82      0.75      1746\n",
      "         dog       0.89      0.80      0.84      3254\n",
      "\n",
      "    accuracy                           0.81      5000\n",
      "   macro avg       0.79      0.81      0.80      5000\n",
      "weighted avg       0.82      0.81      0.81      5000\n",
      "\n",
      "-------------------------------------------------------\n",
      "MODEL3\n",
      "              precision    recall  f1-score   support\n",
      "\n",
      "         cat       0.69      0.82      0.75      1746\n",
      "         dog       0.89      0.80      0.84      3254\n",
      "\n",
      "    accuracy                           0.81      5000\n",
      "   macro avg       0.79      0.81      0.80      5000\n",
      "weighted avg       0.82      0.81      0.81      5000\n",
      "\n",
      "-------------------------------------------------------\n",
      "MODEL4\n",
      "              precision    recall  f1-score   support\n",
      "\n",
      "         cat       0.69      0.82      0.75      1746\n",
      "         dog       0.89      0.80      0.84      3254\n",
      "\n",
      "    accuracy                           0.81      5000\n",
      "   macro avg       0.79      0.81      0.80      5000\n",
      "weighted avg       0.82      0.81      0.81      5000\n",
      "\n",
      "-------------------------------------------------------\n",
      "BASELINE\n",
      "              precision    recall  f1-score   support\n",
      "\n",
      "         cat       0.69      0.82      0.75      1746\n",
      "         dog       0.89      0.80      0.84      3254\n",
      "\n",
      "    accuracy                           0.81      5000\n",
      "   macro avg       0.79      0.81      0.80      5000\n",
      "weighted avg       0.82      0.81      0.81      5000\n",
      "\n"
     ]
    }
   ],
   "source": [
    "line_break = ('-' * 55)\n",
    "\n",
    "for col in df.drop(columns='actual'):\n",
    "    print(line_break)\n",
    "    print(col.upper())\n",
    "    print(sk.metrics.classification_report(df.actual, df.model1))"
   ]
  }
 ],
 "metadata": {
  "kernelspec": {
   "display_name": "Python 3 (ipykernel)",
   "language": "python",
   "name": "python3"
  },
  "language_info": {
   "codemirror_mode": {
    "name": "ipython",
    "version": 3
   },
   "file_extension": ".py",
   "mimetype": "text/x-python",
   "name": "python",
   "nbconvert_exporter": "python",
   "pygments_lexer": "ipython3",
   "version": "3.9.7"
  }
 },
 "nbformat": 4,
 "nbformat_minor": 5
}

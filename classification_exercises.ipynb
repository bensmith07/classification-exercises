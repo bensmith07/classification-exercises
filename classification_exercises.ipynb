{
 "cells": [
  {
   "cell_type": "code",
   "execution_count": 1,
   "id": "dccd2ca8",
   "metadata": {},
   "outputs": [],
   "source": [
    "# for vectorized operations\n",
    "import numpy as np\n",
    "\n",
    "# for dataframe manipulation\n",
    "import pandas as pd\n",
    "\n",
    "# for vizualizations\n",
    "import matplotlib.pyplot as plt\n",
    "import seaborn as sns\n",
    "\n",
    "# for statistical calculations\n",
    "import scipy.stats as stats\n",
    "\n",
    "# for obtaining stock datasets\n",
    "from pydataset import data\n",
    "\n",
    "# for manipulation of time data\n",
    "from datetime import date\n",
    "\n",
    "from sklearn.model_selection import train_test_split\n",
    "from sklearn.impute import SimpleImputer\n",
    "import sklearn as sk\n",
    "\n",
    "# filter out warnings\n",
    "import warnings\n",
    "warnings.filterwarnings('ignore')\n",
    "\n",
    "# our own functions for accessing our sql database\n",
    "from env import get_db_url, user, password, host\n",
    "\n",
    "# our own scripts\n",
    "import acquire\n",
    "import prepare\n",
    "import explore\n",
    "\n",
    "# pandas display preferences\n",
    "pd.set_option('display.max_columns', None)\n",
    "pd.set_option('display.precision', 3)\n",
    "#pd.option_context('display.max_rows', None)\n"
   ]
  },
  {
   "cell_type": "markdown",
   "id": "3e911f2e",
   "metadata": {},
   "source": [
    "#### 4. use a python module (pydata or seaborn datasets) containing datasets as a source from the iris data. Create a pandas dataframe, df_iris, from this data."
   ]
  },
  {
   "cell_type": "code",
   "execution_count": 2,
   "id": "2fc15bab",
   "metadata": {},
   "outputs": [],
   "source": [
    "df = data('iris')"
   ]
  },
  {
   "cell_type": "markdown",
   "id": "b8a2842b",
   "metadata": {},
   "source": [
    "#### 4a.     print the first 3 rows\n"
   ]
  },
  {
   "cell_type": "code",
   "execution_count": 3,
   "id": "3e495454",
   "metadata": {},
   "outputs": [
    {
     "data": {
      "text/html": [
       "<div>\n",
       "<style scoped>\n",
       "    .dataframe tbody tr th:only-of-type {\n",
       "        vertical-align: middle;\n",
       "    }\n",
       "\n",
       "    .dataframe tbody tr th {\n",
       "        vertical-align: top;\n",
       "    }\n",
       "\n",
       "    .dataframe thead th {\n",
       "        text-align: right;\n",
       "    }\n",
       "</style>\n",
       "<table border=\"1\" class=\"dataframe\">\n",
       "  <thead>\n",
       "    <tr style=\"text-align: right;\">\n",
       "      <th></th>\n",
       "      <th>Sepal.Length</th>\n",
       "      <th>Sepal.Width</th>\n",
       "      <th>Petal.Length</th>\n",
       "      <th>Petal.Width</th>\n",
       "      <th>Species</th>\n",
       "    </tr>\n",
       "  </thead>\n",
       "  <tbody>\n",
       "    <tr>\n",
       "      <th>1</th>\n",
       "      <td>5.1</td>\n",
       "      <td>3.5</td>\n",
       "      <td>1.4</td>\n",
       "      <td>0.2</td>\n",
       "      <td>setosa</td>\n",
       "    </tr>\n",
       "    <tr>\n",
       "      <th>2</th>\n",
       "      <td>4.9</td>\n",
       "      <td>3.0</td>\n",
       "      <td>1.4</td>\n",
       "      <td>0.2</td>\n",
       "      <td>setosa</td>\n",
       "    </tr>\n",
       "    <tr>\n",
       "      <th>3</th>\n",
       "      <td>4.7</td>\n",
       "      <td>3.2</td>\n",
       "      <td>1.3</td>\n",
       "      <td>0.2</td>\n",
       "      <td>setosa</td>\n",
       "    </tr>\n",
       "  </tbody>\n",
       "</table>\n",
       "</div>"
      ],
      "text/plain": [
       "   Sepal.Length  Sepal.Width  Petal.Length  Petal.Width Species\n",
       "1           5.1          3.5           1.4          0.2  setosa\n",
       "2           4.9          3.0           1.4          0.2  setosa\n",
       "3           4.7          3.2           1.3          0.2  setosa"
      ]
     },
     "execution_count": 3,
     "metadata": {},
     "output_type": "execute_result"
    }
   ],
   "source": [
    "df.head(3)"
   ]
  },
  {
   "cell_type": "markdown",
   "id": "aad54c07",
   "metadata": {},
   "source": [
    "#### 4b.     print the number of rows and columns (shape)\n"
   ]
  },
  {
   "cell_type": "code",
   "execution_count": 4,
   "id": "a9a7f51f",
   "metadata": {},
   "outputs": [
    {
     "data": {
      "text/plain": [
       "(150, 5)"
      ]
     },
     "execution_count": 4,
     "metadata": {},
     "output_type": "execute_result"
    }
   ],
   "source": [
    "df.shape"
   ]
  },
  {
   "cell_type": "markdown",
   "id": "4d25179d",
   "metadata": {},
   "source": [
    "#### 4c.     print the column names\n"
   ]
  },
  {
   "cell_type": "code",
   "execution_count": 5,
   "id": "27bfed86",
   "metadata": {},
   "outputs": [
    {
     "name": "stdout",
     "output_type": "stream",
     "text": [
      "Sepal.Length\n",
      "Sepal.Width\n",
      "Petal.Length\n",
      "Petal.Width\n",
      "Species\n"
     ]
    }
   ],
   "source": [
    "for column in df.columns:\n",
    "    print(column)"
   ]
  },
  {
   "cell_type": "markdown",
   "id": "b5732184",
   "metadata": {},
   "source": [
    "#### 4d. print the data type of each column"
   ]
  },
  {
   "cell_type": "code",
   "execution_count": 6,
   "id": "4369d4da",
   "metadata": {},
   "outputs": [
    {
     "data": {
      "text/plain": [
       "Sepal.Length    float64\n",
       "Sepal.Width     float64\n",
       "Petal.Length    float64\n",
       "Petal.Width     float64\n",
       "Species          object\n",
       "dtype: object"
      ]
     },
     "execution_count": 6,
     "metadata": {},
     "output_type": "execute_result"
    }
   ],
   "source": [
    "df.dtypes"
   ]
  },
  {
   "cell_type": "markdown",
   "id": "a46fec03",
   "metadata": {},
   "source": [
    "#### 4e.     print the summary statistics for each of the numeric variables\n"
   ]
  },
  {
   "cell_type": "code",
   "execution_count": 7,
   "id": "d001ecac",
   "metadata": {},
   "outputs": [
    {
     "data": {
      "text/html": [
       "<div>\n",
       "<style scoped>\n",
       "    .dataframe tbody tr th:only-of-type {\n",
       "        vertical-align: middle;\n",
       "    }\n",
       "\n",
       "    .dataframe tbody tr th {\n",
       "        vertical-align: top;\n",
       "    }\n",
       "\n",
       "    .dataframe thead th {\n",
       "        text-align: right;\n",
       "    }\n",
       "</style>\n",
       "<table border=\"1\" class=\"dataframe\">\n",
       "  <thead>\n",
       "    <tr style=\"text-align: right;\">\n",
       "      <th></th>\n",
       "      <th>Sepal.Length</th>\n",
       "      <th>Sepal.Width</th>\n",
       "      <th>Petal.Length</th>\n",
       "      <th>Petal.Width</th>\n",
       "    </tr>\n",
       "  </thead>\n",
       "  <tbody>\n",
       "    <tr>\n",
       "      <th>count</th>\n",
       "      <td>150.000</td>\n",
       "      <td>150.000</td>\n",
       "      <td>150.000</td>\n",
       "      <td>150.000</td>\n",
       "    </tr>\n",
       "    <tr>\n",
       "      <th>mean</th>\n",
       "      <td>5.843</td>\n",
       "      <td>3.057</td>\n",
       "      <td>3.758</td>\n",
       "      <td>1.199</td>\n",
       "    </tr>\n",
       "    <tr>\n",
       "      <th>std</th>\n",
       "      <td>0.828</td>\n",
       "      <td>0.436</td>\n",
       "      <td>1.765</td>\n",
       "      <td>0.762</td>\n",
       "    </tr>\n",
       "    <tr>\n",
       "      <th>min</th>\n",
       "      <td>4.300</td>\n",
       "      <td>2.000</td>\n",
       "      <td>1.000</td>\n",
       "      <td>0.100</td>\n",
       "    </tr>\n",
       "    <tr>\n",
       "      <th>25%</th>\n",
       "      <td>5.100</td>\n",
       "      <td>2.800</td>\n",
       "      <td>1.600</td>\n",
       "      <td>0.300</td>\n",
       "    </tr>\n",
       "    <tr>\n",
       "      <th>50%</th>\n",
       "      <td>5.800</td>\n",
       "      <td>3.000</td>\n",
       "      <td>4.350</td>\n",
       "      <td>1.300</td>\n",
       "    </tr>\n",
       "    <tr>\n",
       "      <th>75%</th>\n",
       "      <td>6.400</td>\n",
       "      <td>3.300</td>\n",
       "      <td>5.100</td>\n",
       "      <td>1.800</td>\n",
       "    </tr>\n",
       "    <tr>\n",
       "      <th>max</th>\n",
       "      <td>7.900</td>\n",
       "      <td>4.400</td>\n",
       "      <td>6.900</td>\n",
       "      <td>2.500</td>\n",
       "    </tr>\n",
       "  </tbody>\n",
       "</table>\n",
       "</div>"
      ],
      "text/plain": [
       "       Sepal.Length  Sepal.Width  Petal.Length  Petal.Width\n",
       "count       150.000      150.000       150.000      150.000\n",
       "mean          5.843        3.057         3.758        1.199\n",
       "std           0.828        0.436         1.765        0.762\n",
       "min           4.300        2.000         1.000        0.100\n",
       "25%           5.100        2.800         1.600        0.300\n",
       "50%           5.800        3.000         4.350        1.300\n",
       "75%           6.400        3.300         5.100        1.800\n",
       "max           7.900        4.400         6.900        2.500"
      ]
     },
     "execution_count": 7,
     "metadata": {},
     "output_type": "execute_result"
    }
   ],
   "source": [
    "df.describe()"
   ]
  },
  {
   "cell_type": "markdown",
   "id": "d9033c72",
   "metadata": {},
   "source": [
    "#### 5. Read the Table1_CustDetails table from your spreadsheet exercises google sheet into a dataframe named df_google_sheets."
   ]
  },
  {
   "cell_type": "code",
   "execution_count": 8,
   "id": "d0eff871",
   "metadata": {},
   "outputs": [],
   "source": [
    "url = 'https://docs.google.com/spreadsheets/d/1gb4xDK4WmoM0kBTOiurSNZzz3cQE1IVnRQ59YsUmTmw/export?format=csv#gid=1023018493'\n",
    "df_google_sheets = pd.read_csv(url)"
   ]
  },
  {
   "cell_type": "code",
   "execution_count": 9,
   "id": "1647edda",
   "metadata": {},
   "outputs": [
    {
     "data": {
      "text/html": [
       "<div>\n",
       "<style scoped>\n",
       "    .dataframe tbody tr th:only-of-type {\n",
       "        vertical-align: middle;\n",
       "    }\n",
       "\n",
       "    .dataframe tbody tr th {\n",
       "        vertical-align: top;\n",
       "    }\n",
       "\n",
       "    .dataframe thead th {\n",
       "        text-align: right;\n",
       "    }\n",
       "</style>\n",
       "<table border=\"1\" class=\"dataframe\">\n",
       "  <thead>\n",
       "    <tr style=\"text-align: right;\">\n",
       "      <th></th>\n",
       "      <th>customer_id</th>\n",
       "      <th>gender</th>\n",
       "      <th>is_senior_citizen</th>\n",
       "      <th>partner</th>\n",
       "      <th>dependents</th>\n",
       "      <th>phone_service</th>\n",
       "      <th>internet_service</th>\n",
       "      <th>contract_type</th>\n",
       "      <th>monthly_charges</th>\n",
       "      <th>total_charges</th>\n",
       "      <th>churn</th>\n",
       "    </tr>\n",
       "  </thead>\n",
       "  <tbody>\n",
       "    <tr>\n",
       "      <th>0</th>\n",
       "      <td>0002-ORFBO</td>\n",
       "      <td>Female</td>\n",
       "      <td>0</td>\n",
       "      <td>Yes</td>\n",
       "      <td>Yes</td>\n",
       "      <td>1</td>\n",
       "      <td>1</td>\n",
       "      <td>1</td>\n",
       "      <td>65.6</td>\n",
       "      <td>593.30</td>\n",
       "      <td>No</td>\n",
       "    </tr>\n",
       "    <tr>\n",
       "      <th>1</th>\n",
       "      <td>0003-MKNFE</td>\n",
       "      <td>Male</td>\n",
       "      <td>0</td>\n",
       "      <td>No</td>\n",
       "      <td>No</td>\n",
       "      <td>2</td>\n",
       "      <td>1</td>\n",
       "      <td>0</td>\n",
       "      <td>59.9</td>\n",
       "      <td>542.40</td>\n",
       "      <td>No</td>\n",
       "    </tr>\n",
       "    <tr>\n",
       "      <th>2</th>\n",
       "      <td>0004-TLHLJ</td>\n",
       "      <td>Male</td>\n",
       "      <td>0</td>\n",
       "      <td>No</td>\n",
       "      <td>No</td>\n",
       "      <td>1</td>\n",
       "      <td>2</td>\n",
       "      <td>0</td>\n",
       "      <td>73.9</td>\n",
       "      <td>280.85</td>\n",
       "      <td>Yes</td>\n",
       "    </tr>\n",
       "  </tbody>\n",
       "</table>\n",
       "</div>"
      ],
      "text/plain": [
       "  customer_id  gender  is_senior_citizen partner dependents  phone_service  \\\n",
       "0  0002-ORFBO  Female                  0     Yes        Yes              1   \n",
       "1  0003-MKNFE    Male                  0      No         No              2   \n",
       "2  0004-TLHLJ    Male                  0      No         No              1   \n",
       "\n",
       "   internet_service  contract_type  monthly_charges  total_charges churn  \n",
       "0                 1              1             65.6         593.30    No  \n",
       "1                 1              0             59.9         542.40    No  \n",
       "2                 2              0             73.9         280.85   Yes  "
      ]
     },
     "execution_count": 9,
     "metadata": {},
     "output_type": "execute_result"
    }
   ],
   "source": [
    "df_google_sheets.head(3)"
   ]
  },
  {
   "cell_type": "markdown",
   "id": "5338d8bd",
   "metadata": {},
   "source": [
    "#### 5a. assign the first 100 rows to a new dataframe, df_google_sheets_sample"
   ]
  },
  {
   "cell_type": "code",
   "execution_count": 10,
   "id": "33f49177",
   "metadata": {},
   "outputs": [],
   "source": [
    "df_google_sheets_sample = df_google_sheets.head(100)"
   ]
  },
  {
   "cell_type": "markdown",
   "id": "ba417b0c",
   "metadata": {},
   "source": [
    "#### 5b. print the number of rows of your original dataframe"
   ]
  },
  {
   "cell_type": "code",
   "execution_count": 11,
   "id": "aa819f6b",
   "metadata": {},
   "outputs": [
    {
     "data": {
      "text/plain": [
       "7049"
      ]
     },
     "execution_count": 11,
     "metadata": {},
     "output_type": "execute_result"
    }
   ],
   "source": [
    "df_google_sheets.shape[0]"
   ]
  },
  {
   "cell_type": "markdown",
   "id": "315a9666",
   "metadata": {},
   "source": [
    "#### 5c. print the first five column names"
   ]
  },
  {
   "cell_type": "code",
   "execution_count": 12,
   "id": "68ef9924",
   "metadata": {},
   "outputs": [
    {
     "name": "stdout",
     "output_type": "stream",
     "text": [
      "customer_id\n",
      "gender\n",
      "is_senior_citizen\n",
      "partner\n",
      "dependents\n"
     ]
    }
   ],
   "source": [
    "for column in df_google_sheets.columns[:5]:\n",
    "    print(column)"
   ]
  },
  {
   "cell_type": "markdown",
   "id": "55e7c39a",
   "metadata": {},
   "source": [
    "#### 5d. print the column names that have a data type of object"
   ]
  },
  {
   "cell_type": "code",
   "execution_count": 13,
   "id": "54a8bb03",
   "metadata": {},
   "outputs": [
    {
     "name": "stdout",
     "output_type": "stream",
     "text": [
      "customer_id\n",
      "gender\n",
      "partner\n",
      "dependents\n",
      "churn\n"
     ]
    }
   ],
   "source": [
    "for column in df_google_sheets.dtypes[df_google_sheets.dtypes == 'object'].index:\n",
    "    print(column)"
   ]
  },
  {
   "cell_type": "markdown",
   "id": "340a7393",
   "metadata": {},
   "source": [
    "#### 5e. compute the range for each of the numeric variables"
   ]
  },
  {
   "cell_type": "code",
   "execution_count": 14,
   "id": "25f2e64a",
   "metadata": {},
   "outputs": [
    {
     "data": {
      "text/plain": [
       "is_senior_citizen       1.0\n",
       "phone_service           2.0\n",
       "internet_service        2.0\n",
       "contract_type           2.0\n",
       "monthly_charges       100.5\n",
       "total_charges        8666.0\n",
       "dtype: float64"
      ]
     },
     "execution_count": 14,
     "metadata": {},
     "output_type": "execute_result"
    }
   ],
   "source": [
    "ranges = df_google_sheets.select_dtypes('number')\n",
    "ranges = ranges.max() - ranges.min()\n",
    "ranges"
   ]
  },
  {
   "cell_type": "markdown",
   "id": "e95d6129",
   "metadata": {},
   "source": [
    "#### 6. Download your spreadsheet exercises google sheet as an excel file (File → Download → Microsoft Excel). Read the Table1_CustDetails worksheet into a dataframe named df_excel."
   ]
  },
  {
   "cell_type": "code",
   "execution_count": 15,
   "id": "c3d352a7",
   "metadata": {},
   "outputs": [
    {
     "data": {
      "text/html": [
       "<div>\n",
       "<style scoped>\n",
       "    .dataframe tbody tr th:only-of-type {\n",
       "        vertical-align: middle;\n",
       "    }\n",
       "\n",
       "    .dataframe tbody tr th {\n",
       "        vertical-align: top;\n",
       "    }\n",
       "\n",
       "    .dataframe thead th {\n",
       "        text-align: right;\n",
       "    }\n",
       "</style>\n",
       "<table border=\"1\" class=\"dataframe\">\n",
       "  <thead>\n",
       "    <tr style=\"text-align: right;\">\n",
       "      <th></th>\n",
       "      <th>customer_id</th>\n",
       "      <th>gender</th>\n",
       "      <th>is_senior_citizen</th>\n",
       "      <th>partner</th>\n",
       "      <th>dependents</th>\n",
       "      <th>phone_service</th>\n",
       "      <th>internet_service</th>\n",
       "      <th>contract_type</th>\n",
       "      <th>monthly_charges</th>\n",
       "      <th>total_charges</th>\n",
       "      <th>churn</th>\n",
       "    </tr>\n",
       "  </thead>\n",
       "  <tbody>\n",
       "    <tr>\n",
       "      <th>0</th>\n",
       "      <td>0002-ORFBO</td>\n",
       "      <td>Female</td>\n",
       "      <td>0.0</td>\n",
       "      <td>Yes</td>\n",
       "      <td>Yes</td>\n",
       "      <td>1.0</td>\n",
       "      <td>1.0</td>\n",
       "      <td>1.0</td>\n",
       "      <td>65.6</td>\n",
       "      <td>593.30</td>\n",
       "      <td>No</td>\n",
       "    </tr>\n",
       "    <tr>\n",
       "      <th>1</th>\n",
       "      <td>0003-MKNFE</td>\n",
       "      <td>Male</td>\n",
       "      <td>0.0</td>\n",
       "      <td>No</td>\n",
       "      <td>No</td>\n",
       "      <td>2.0</td>\n",
       "      <td>1.0</td>\n",
       "      <td>0.0</td>\n",
       "      <td>59.9</td>\n",
       "      <td>542.40</td>\n",
       "      <td>No</td>\n",
       "    </tr>\n",
       "    <tr>\n",
       "      <th>2</th>\n",
       "      <td>0004-TLHLJ</td>\n",
       "      <td>Male</td>\n",
       "      <td>0.0</td>\n",
       "      <td>No</td>\n",
       "      <td>No</td>\n",
       "      <td>1.0</td>\n",
       "      <td>2.0</td>\n",
       "      <td>0.0</td>\n",
       "      <td>73.9</td>\n",
       "      <td>280.85</td>\n",
       "      <td>Yes</td>\n",
       "    </tr>\n",
       "  </tbody>\n",
       "</table>\n",
       "</div>"
      ],
      "text/plain": [
       "  customer_id  gender  is_senior_citizen partner dependents  phone_service  \\\n",
       "0  0002-ORFBO  Female                0.0     Yes        Yes            1.0   \n",
       "1  0003-MKNFE    Male                0.0      No         No            2.0   \n",
       "2  0004-TLHLJ    Male                0.0      No         No            1.0   \n",
       "\n",
       "   internet_service  contract_type  monthly_charges  total_charges churn  \n",
       "0               1.0            1.0             65.6         593.30    No  \n",
       "1               1.0            0.0             59.9         542.40    No  \n",
       "2               2.0            0.0             73.9         280.85   Yes  "
      ]
     },
     "execution_count": 15,
     "metadata": {},
     "output_type": "execute_result"
    }
   ],
   "source": [
    "df_excel = pd.read_excel('df_excel.xlsx', sheet_name='Table1_CustDetails')\n",
    "df_excel.head(3)"
   ]
  },
  {
   "cell_type": "markdown",
   "id": "ddf031d0",
   "metadata": {},
   "source": [
    "#### 6a. assign the first 100 rows to a new dataframe, df_excel_sample"
   ]
  },
  {
   "cell_type": "code",
   "execution_count": 16,
   "id": "5b16bb2b",
   "metadata": {},
   "outputs": [],
   "source": [
    "df_excel_sample = df_excel.head(100)"
   ]
  },
  {
   "cell_type": "markdown",
   "id": "021c0ffc",
   "metadata": {},
   "source": [
    "#### 6b. print the number of rows of your original dataframe"
   ]
  },
  {
   "cell_type": "code",
   "execution_count": 17,
   "id": "98efe489",
   "metadata": {},
   "outputs": [
    {
     "data": {
      "text/plain": [
       "7049"
      ]
     },
     "execution_count": 17,
     "metadata": {},
     "output_type": "execute_result"
    }
   ],
   "source": [
    "df_excel.shape[0]"
   ]
  },
  {
   "cell_type": "markdown",
   "id": "fe4ca2df",
   "metadata": {},
   "source": [
    "#### 6c. print the first 5 column names"
   ]
  },
  {
   "cell_type": "code",
   "execution_count": 18,
   "id": "f048a079",
   "metadata": {},
   "outputs": [
    {
     "name": "stdout",
     "output_type": "stream",
     "text": [
      "customer_id\n",
      "gender\n",
      "is_senior_citizen\n",
      "partner\n",
      "dependents\n"
     ]
    }
   ],
   "source": [
    "for column in df_excel.columns[:5]:\n",
    "    print(column)"
   ]
  },
  {
   "cell_type": "markdown",
   "id": "dc34570e",
   "metadata": {},
   "source": [
    "#### 6d. print the column names that have a data type of object"
   ]
  },
  {
   "cell_type": "code",
   "execution_count": 19,
   "id": "169baeaa",
   "metadata": {},
   "outputs": [
    {
     "name": "stdout",
     "output_type": "stream",
     "text": [
      "customer_id\n",
      "gender\n",
      "partner\n",
      "dependents\n",
      "churn\n"
     ]
    }
   ],
   "source": [
    "for column in df_google_sheets.select_dtypes(include=[object]).columns:\n",
    "    print(column)"
   ]
  },
  {
   "cell_type": "markdown",
   "id": "122a3eaf",
   "metadata": {},
   "source": [
    "#### 6e. compute the range for each of the numeric variables."
   ]
  },
  {
   "cell_type": "code",
   "execution_count": 20,
   "id": "26444ed3",
   "metadata": {},
   "outputs": [
    {
     "data": {
      "text/plain": [
       "is_senior_citizen       1.0\n",
       "phone_service           2.0\n",
       "internet_service        2.0\n",
       "contract_type           2.0\n",
       "monthly_charges       100.5\n",
       "total_charges        8666.0\n",
       "dtype: float64"
      ]
     },
     "execution_count": 20,
     "metadata": {},
     "output_type": "execute_result"
    }
   ],
   "source": [
    "ranges = df_google_sheets.select_dtypes(exclude=[object])\n",
    "ranges = ranges.max() - ranges.min()\n",
    "ranges"
   ]
  },
  {
   "cell_type": "markdown",
   "id": "877450bf",
   "metadata": {},
   "source": [
    "#### 7. read the data from the given google sheet into a dataframe, df_google"
   ]
  },
  {
   "cell_type": "code",
   "execution_count": 21,
   "id": "8a32c835",
   "metadata": {},
   "outputs": [],
   "source": [
    "sheet_id = '1Uhtml8KY19LILuZsrDtlsHHDC9wuDGUSe8LTEwvdI5g'\n",
    "sheet_name = 'train'\n",
    "\n",
    "url = f\"https://docs.google.com/spreadsheets/d/{sheet_id}/gviz/tq?tqx=out:csv&sheet={sheet_name}\"\n",
    "\n",
    "df_google = pd.read_csv(url)"
   ]
  },
  {
   "cell_type": "markdown",
   "id": "caaced97",
   "metadata": {},
   "source": [
    "#### 7a. Print the first 3 rows"
   ]
  },
  {
   "cell_type": "code",
   "execution_count": 22,
   "id": "39ae54f1",
   "metadata": {},
   "outputs": [
    {
     "data": {
      "text/html": [
       "<div>\n",
       "<style scoped>\n",
       "    .dataframe tbody tr th:only-of-type {\n",
       "        vertical-align: middle;\n",
       "    }\n",
       "\n",
       "    .dataframe tbody tr th {\n",
       "        vertical-align: top;\n",
       "    }\n",
       "\n",
       "    .dataframe thead th {\n",
       "        text-align: right;\n",
       "    }\n",
       "</style>\n",
       "<table border=\"1\" class=\"dataframe\">\n",
       "  <thead>\n",
       "    <tr style=\"text-align: right;\">\n",
       "      <th></th>\n",
       "      <th>PassengerId</th>\n",
       "      <th>Survived</th>\n",
       "      <th>Pclass</th>\n",
       "      <th>Name</th>\n",
       "      <th>Sex</th>\n",
       "      <th>Age</th>\n",
       "      <th>SibSp</th>\n",
       "      <th>Parch</th>\n",
       "      <th>Ticket</th>\n",
       "      <th>Fare</th>\n",
       "      <th>Cabin</th>\n",
       "      <th>Embarked</th>\n",
       "    </tr>\n",
       "  </thead>\n",
       "  <tbody>\n",
       "    <tr>\n",
       "      <th>0</th>\n",
       "      <td>1</td>\n",
       "      <td>0</td>\n",
       "      <td>3</td>\n",
       "      <td>Braund, Mr. Owen Harris</td>\n",
       "      <td>male</td>\n",
       "      <td>22.0</td>\n",
       "      <td>1</td>\n",
       "      <td>0</td>\n",
       "      <td>NaN</td>\n",
       "      <td>7.250</td>\n",
       "      <td>NaN</td>\n",
       "      <td>S</td>\n",
       "    </tr>\n",
       "    <tr>\n",
       "      <th>1</th>\n",
       "      <td>2</td>\n",
       "      <td>1</td>\n",
       "      <td>1</td>\n",
       "      <td>Cumings, Mrs. John Bradley (Florence Briggs Thayer)</td>\n",
       "      <td>female</td>\n",
       "      <td>38.0</td>\n",
       "      <td>1</td>\n",
       "      <td>0</td>\n",
       "      <td>NaN</td>\n",
       "      <td>71.283</td>\n",
       "      <td>C85</td>\n",
       "      <td>C</td>\n",
       "    </tr>\n",
       "    <tr>\n",
       "      <th>2</th>\n",
       "      <td>3</td>\n",
       "      <td>1</td>\n",
       "      <td>3</td>\n",
       "      <td>Heikkinen, Miss. Laina</td>\n",
       "      <td>female</td>\n",
       "      <td>26.0</td>\n",
       "      <td>0</td>\n",
       "      <td>0</td>\n",
       "      <td>NaN</td>\n",
       "      <td>7.925</td>\n",
       "      <td>NaN</td>\n",
       "      <td>S</td>\n",
       "    </tr>\n",
       "  </tbody>\n",
       "</table>\n",
       "</div>"
      ],
      "text/plain": [
       "   PassengerId  Survived  Pclass  \\\n",
       "0            1         0       3   \n",
       "1            2         1       1   \n",
       "2            3         1       3   \n",
       "\n",
       "                                                  Name     Sex   Age  SibSp  \\\n",
       "0                              Braund, Mr. Owen Harris    male  22.0      1   \n",
       "1  Cumings, Mrs. John Bradley (Florence Briggs Thayer)  female  38.0      1   \n",
       "2                               Heikkinen, Miss. Laina  female  26.0      0   \n",
       "\n",
       "   Parch  Ticket    Fare Cabin Embarked  \n",
       "0      0     NaN   7.250   NaN        S  \n",
       "1      0     NaN  71.283   C85        C  \n",
       "2      0     NaN   7.925   NaN        S  "
      ]
     },
     "execution_count": 22,
     "metadata": {},
     "output_type": "execute_result"
    }
   ],
   "source": [
    "df_google.head(3)"
   ]
  },
  {
   "cell_type": "markdown",
   "id": "222b34d7",
   "metadata": {},
   "source": [
    "#### 7b. print the number of rows and columns "
   ]
  },
  {
   "cell_type": "code",
   "execution_count": 23,
   "id": "28a27919",
   "metadata": {},
   "outputs": [
    {
     "data": {
      "text/plain": [
       "(891, 12)"
      ]
     },
     "execution_count": 23,
     "metadata": {},
     "output_type": "execute_result"
    }
   ],
   "source": [
    "df_google.shape"
   ]
  },
  {
   "cell_type": "markdown",
   "id": "8ced3b55",
   "metadata": {},
   "source": [
    "#### 7c. print the column names"
   ]
  },
  {
   "cell_type": "code",
   "execution_count": 24,
   "id": "1ece9c28",
   "metadata": {},
   "outputs": [
    {
     "name": "stdout",
     "output_type": "stream",
     "text": [
      "PassengerId\n",
      "Survived\n",
      "Pclass\n",
      "Name\n",
      "Sex\n",
      "Age\n",
      "SibSp\n",
      "Parch\n",
      "Ticket\n",
      "Fare\n",
      "Cabin\n",
      "Embarked\n"
     ]
    }
   ],
   "source": [
    "for column in df_google.columns:\n",
    "    print(column)"
   ]
  },
  {
   "cell_type": "markdown",
   "id": "72440fd5",
   "metadata": {},
   "source": [
    "#### 7d. print the data type of each column"
   ]
  },
  {
   "cell_type": "code",
   "execution_count": 25,
   "id": "50669f43",
   "metadata": {},
   "outputs": [
    {
     "data": {
      "text/plain": [
       "PassengerId      int64\n",
       "Survived         int64\n",
       "Pclass           int64\n",
       "Name            object\n",
       "Sex             object\n",
       "Age            float64\n",
       "SibSp            int64\n",
       "Parch            int64\n",
       "Ticket         float64\n",
       "Fare           float64\n",
       "Cabin           object\n",
       "Embarked        object\n",
       "dtype: object"
      ]
     },
     "execution_count": 25,
     "metadata": {},
     "output_type": "execute_result"
    }
   ],
   "source": [
    "df_google.dtypes"
   ]
  },
  {
   "cell_type": "markdown",
   "id": "e2ea8759",
   "metadata": {},
   "source": [
    "#### 7e. print the summary statistics for each of the numeric variables"
   ]
  },
  {
   "cell_type": "code",
   "execution_count": 26,
   "id": "5ac55c99",
   "metadata": {},
   "outputs": [
    {
     "data": {
      "text/html": [
       "<div>\n",
       "<style scoped>\n",
       "    .dataframe tbody tr th:only-of-type {\n",
       "        vertical-align: middle;\n",
       "    }\n",
       "\n",
       "    .dataframe tbody tr th {\n",
       "        vertical-align: top;\n",
       "    }\n",
       "\n",
       "    .dataframe thead th {\n",
       "        text-align: right;\n",
       "    }\n",
       "</style>\n",
       "<table border=\"1\" class=\"dataframe\">\n",
       "  <thead>\n",
       "    <tr style=\"text-align: right;\">\n",
       "      <th></th>\n",
       "      <th>PassengerId</th>\n",
       "      <th>Survived</th>\n",
       "      <th>Pclass</th>\n",
       "      <th>Age</th>\n",
       "      <th>SibSp</th>\n",
       "      <th>Parch</th>\n",
       "      <th>Ticket</th>\n",
       "      <th>Fare</th>\n",
       "    </tr>\n",
       "  </thead>\n",
       "  <tbody>\n",
       "    <tr>\n",
       "      <th>count</th>\n",
       "      <td>891.000</td>\n",
       "      <td>891.000</td>\n",
       "      <td>891.000</td>\n",
       "      <td>714.000</td>\n",
       "      <td>891.000</td>\n",
       "      <td>891.000</td>\n",
       "      <td>6.610e+02</td>\n",
       "      <td>891.000</td>\n",
       "    </tr>\n",
       "    <tr>\n",
       "      <th>mean</th>\n",
       "      <td>446.000</td>\n",
       "      <td>0.384</td>\n",
       "      <td>2.309</td>\n",
       "      <td>29.699</td>\n",
       "      <td>0.523</td>\n",
       "      <td>0.382</td>\n",
       "      <td>2.603e+05</td>\n",
       "      <td>32.204</td>\n",
       "    </tr>\n",
       "    <tr>\n",
       "      <th>std</th>\n",
       "      <td>257.354</td>\n",
       "      <td>0.487</td>\n",
       "      <td>0.836</td>\n",
       "      <td>14.526</td>\n",
       "      <td>1.103</td>\n",
       "      <td>0.806</td>\n",
       "      <td>4.716e+05</td>\n",
       "      <td>49.693</td>\n",
       "    </tr>\n",
       "    <tr>\n",
       "      <th>min</th>\n",
       "      <td>1.000</td>\n",
       "      <td>0.000</td>\n",
       "      <td>1.000</td>\n",
       "      <td>0.420</td>\n",
       "      <td>0.000</td>\n",
       "      <td>0.000</td>\n",
       "      <td>6.930e+02</td>\n",
       "      <td>0.000</td>\n",
       "    </tr>\n",
       "    <tr>\n",
       "      <th>25%</th>\n",
       "      <td>223.500</td>\n",
       "      <td>0.000</td>\n",
       "      <td>2.000</td>\n",
       "      <td>20.125</td>\n",
       "      <td>0.000</td>\n",
       "      <td>0.000</td>\n",
       "      <td>2.000e+04</td>\n",
       "      <td>7.910</td>\n",
       "    </tr>\n",
       "    <tr>\n",
       "      <th>50%</th>\n",
       "      <td>446.000</td>\n",
       "      <td>0.000</td>\n",
       "      <td>3.000</td>\n",
       "      <td>28.000</td>\n",
       "      <td>0.000</td>\n",
       "      <td>0.000</td>\n",
       "      <td>2.362e+05</td>\n",
       "      <td>14.454</td>\n",
       "    </tr>\n",
       "    <tr>\n",
       "      <th>75%</th>\n",
       "      <td>668.500</td>\n",
       "      <td>1.000</td>\n",
       "      <td>3.000</td>\n",
       "      <td>38.000</td>\n",
       "      <td>1.000</td>\n",
       "      <td>0.000</td>\n",
       "      <td>3.477e+05</td>\n",
       "      <td>31.000</td>\n",
       "    </tr>\n",
       "    <tr>\n",
       "      <th>max</th>\n",
       "      <td>891.000</td>\n",
       "      <td>1.000</td>\n",
       "      <td>3.000</td>\n",
       "      <td>80.000</td>\n",
       "      <td>8.000</td>\n",
       "      <td>6.000</td>\n",
       "      <td>3.101e+06</td>\n",
       "      <td>512.329</td>\n",
       "    </tr>\n",
       "  </tbody>\n",
       "</table>\n",
       "</div>"
      ],
      "text/plain": [
       "       PassengerId  Survived   Pclass      Age    SibSp    Parch     Ticket  \\\n",
       "count      891.000   891.000  891.000  714.000  891.000  891.000  6.610e+02   \n",
       "mean       446.000     0.384    2.309   29.699    0.523    0.382  2.603e+05   \n",
       "std        257.354     0.487    0.836   14.526    1.103    0.806  4.716e+05   \n",
       "min          1.000     0.000    1.000    0.420    0.000    0.000  6.930e+02   \n",
       "25%        223.500     0.000    2.000   20.125    0.000    0.000  2.000e+04   \n",
       "50%        446.000     0.000    3.000   28.000    0.000    0.000  2.362e+05   \n",
       "75%        668.500     1.000    3.000   38.000    1.000    0.000  3.477e+05   \n",
       "max        891.000     1.000    3.000   80.000    8.000    6.000  3.101e+06   \n",
       "\n",
       "          Fare  \n",
       "count  891.000  \n",
       "mean    32.204  \n",
       "std     49.693  \n",
       "min      0.000  \n",
       "25%      7.910  \n",
       "50%     14.454  \n",
       "75%     31.000  \n",
       "max    512.329  "
      ]
     },
     "execution_count": 26,
     "metadata": {},
     "output_type": "execute_result"
    }
   ],
   "source": [
    "df_google.describe()"
   ]
  },
  {
   "cell_type": "markdown",
   "id": "bb54e127",
   "metadata": {},
   "source": [
    "#### 7f. Print the unique values for each of your categorical variables"
   ]
  },
  {
   "cell_type": "code",
   "execution_count": 27,
   "id": "051cc5ac",
   "metadata": {},
   "outputs": [
    {
     "name": "stdout",
     "output_type": "stream",
     "text": [
      "Survived: [0 1]\n",
      "Pclass: [3 1 2]\n",
      "Sex: ['male' 'female']\n",
      "SibSp: [1 0 3 4 2 5 8]\n",
      "Parch: [0 1 2 5 3 4 6]\n",
      "Embarked: ['S' 'C' 'Q' nan]\n"
     ]
    }
   ],
   "source": [
    "categorical_columns = list(df_google.nunique()[df_google.nunique() < 10].index)\n",
    "for i in range(df_google[categorical_columns].shape[1]):\n",
    "    print(f'{df_google[categorical_columns].iloc[:, i].name}: {(df_google[categorical_columns].iloc[:, i].unique())}')"
   ]
  },
  {
   "cell_type": "code",
   "execution_count": 28,
   "id": "0794bea2",
   "metadata": {},
   "outputs": [
    {
     "name": "stdout",
     "output_type": "stream",
     "text": [
      "Survived: [0 1]\n",
      "Pclass: [3 1 2]\n",
      "Sex: ['male' 'female']\n",
      "SibSp: [1 0 3 4 2 5 8]\n",
      "Parch: [0 1 2 5 3 4 6]\n",
      "Embarked: ['S' 'C' 'Q' nan]\n"
     ]
    }
   ],
   "source": [
    "#simpler way:\n",
    "categorical_df = df_google.loc[:,df_google.nunique()<10]\n",
    "for col in categorical_df.columns:\n",
    "    print(f'{col}: {(categorical_df[col].unique())}')"
   ]
  },
  {
   "cell_type": "markdown",
   "id": "4dea59b0",
   "metadata": {},
   "source": [
    "### 1. Make a function named get_titanic_data that returns the titanic data from the codeup data science database as a pandas data frame. Obtain your data from the Codeup Data Science Database. "
   ]
  },
  {
   "cell_type": "code",
   "execution_count": 29,
   "id": "b0540042",
   "metadata": {},
   "outputs": [],
   "source": [
    "import os\n",
    "from env import get_db_url, user, password, host\n",
    "\n",
    "def get_titanic_data():\n",
    "    \n",
    "    filename = 'titanic.csv'\n",
    "    \n",
    "    if os.path.exists(filename):\n",
    "        print('Reading from local CSV...')\n",
    "        return pd.read_csv(filename)\n",
    "    \n",
    "    url = get_db_url('titanic_db')\n",
    "    sql = '''\n",
    "    SELECT * FROM passengers\n",
    "    '''\n",
    "    \n",
    "    print('No local file exists\\nReading from SQL database...')\n",
    "    df = pd.read_sql(sql, url)\n",
    "\n",
    "    print('Saving to local CSV... ')\n",
    "    df.to_csv(filename, index=False)\n",
    "    \n",
    "    return df"
   ]
  },
  {
   "cell_type": "markdown",
   "id": "f4808541",
   "metadata": {},
   "source": [
    "### 2. Make a function named get_iris_data that returns the data from the iris_db on the codeup data science database as a pandas data frame. The returned data frame should include the actual name of the species in addition to the species_ids. Obtain your data from the Codeup Data Science Database.\n"
   ]
  },
  {
   "cell_type": "code",
   "execution_count": 30,
   "id": "571df461",
   "metadata": {},
   "outputs": [],
   "source": [
    "def get_iris_data():\n",
    "    \n",
    "    filename = 'iris.csv'\n",
    "    \n",
    "    if os.path.exists(filename):\n",
    "        print('Reading from local CSV...')\n",
    "        return pd.read_csv(filename)\n",
    "        \n",
    "    url = get_db_url('iris_db')\n",
    "    sql = '''\n",
    "    SELECT *\n",
    "      FROM species\n",
    "      JOIN measurements USING(species_id);\n",
    "    '''\n",
    "    \n",
    "    print('No local file exists\\nReading from SQL database...')\n",
    "    df = pd.read_sql(sql, url)\n",
    "    \n",
    "    print('Saving to local CSV...')\n",
    "    df.to_csv(filename, index=False)\n",
    "    \n",
    "    return df"
   ]
  },
  {
   "cell_type": "markdown",
   "id": "cae07de6",
   "metadata": {},
   "source": [
    "### 3. Make a function named get_telco_data that returns the data from the telco_churn database in SQL. In your SQL, be sure to join all 4 tables together, so that the resulting dataframe contains all the contract, payment, and internet service options. Obtain your data from the Codeup Data Science Database. "
   ]
  },
  {
   "cell_type": "code",
   "execution_count": 31,
   "id": "36690176",
   "metadata": {},
   "outputs": [],
   "source": [
    "def get_telco_data():\n",
    "    \n",
    "    filename = 'telco_chun.csv'\n",
    "    \n",
    "    if os.path.exists(filename):\n",
    "        print('Reading from local CSV...')\n",
    "        return pd.read_csv(filename)\n",
    "    \n",
    "    url = get_db_url('telco_churn')\n",
    "    sql = '''\n",
    "    SELECT * \n",
    "      FROM customers\n",
    "        JOIN contract_types USING(contract_type_id)\n",
    "        JOIN internet_service_types USING(internet_service_type_id)\n",
    "        JOIN payment_types USING(payment_type_id)\n",
    "    '''\n",
    "    \n",
    "    print('No local file exists\\nReading from SQL database...')\n",
    "    df = pd.read_sql(sql, url)\n",
    "    \n",
    "    print('Saving to local CSV...')\n",
    "    df.to_csv(filename, index=False)\n",
    "    \n",
    "    return df"
   ]
  },
  {
   "cell_type": "markdown",
   "id": "db0e9052",
   "metadata": {},
   "source": [
    "### 4. Once you've got your get_titanic_data, get_iris_data, and get_telco_data functions written, now it's time to add caching to them. To do this, edit the beginning of the function to check for the local filename of telco.csv, titanic.csv, or iris.csv. If they exist, use the .csv file. If the file doesn't exist, then produce the SQL and pandas necessary to create a dataframe, then write the dataframe to a .csv file with the appropriate name. "
   ]
  },
  {
   "cell_type": "markdown",
   "id": "06244c41",
   "metadata": {},
   "source": [
    "# Data Preparation"
   ]
  },
  {
   "cell_type": "code",
   "execution_count": 32,
   "id": "dd6c2746",
   "metadata": {},
   "outputs": [],
   "source": [
    "import acquire"
   ]
  },
  {
   "cell_type": "markdown",
   "id": "ce3e382d",
   "metadata": {},
   "source": [
    "### Using the Iris Data: "
   ]
  },
  {
   "cell_type": "markdown",
   "id": "ed2278ee",
   "metadata": {},
   "source": [
    "#### 1. Use the function defined in acquire.py to load the iris data.\n"
   ]
  },
  {
   "cell_type": "code",
   "execution_count": 33,
   "id": "aabb520b",
   "metadata": {},
   "outputs": [
    {
     "name": "stdout",
     "output_type": "stream",
     "text": [
      "Reading from local CSV...\n"
     ]
    }
   ],
   "source": [
    "df = acquire.get_iris_data()"
   ]
  },
  {
   "cell_type": "markdown",
   "id": "b09d56f1",
   "metadata": {},
   "source": [
    "#### 2. Drop the species_id and measurement_id columns"
   ]
  },
  {
   "cell_type": "code",
   "execution_count": 34,
   "id": "f1135180",
   "metadata": {},
   "outputs": [],
   "source": [
    "df = df.drop(columns=['species_id', 'measurement_id'])"
   ]
  },
  {
   "cell_type": "markdown",
   "id": "0fb88c35",
   "metadata": {},
   "source": [
    "#### 3. Rename the species_name column to just species.\n"
   ]
  },
  {
   "cell_type": "code",
   "execution_count": 35,
   "id": "32d5d762",
   "metadata": {},
   "outputs": [],
   "source": [
    "df = df.rename(columns={'species_name': 'species'})"
   ]
  },
  {
   "cell_type": "markdown",
   "id": "12b0aa73",
   "metadata": {},
   "source": [
    "#### 4. Create dummy variables of the species name and concatenate onto the iris dataframe. (This is for practice, we don't always have to encode the target, but if we used species as a feature, we would need to encode it).\n"
   ]
  },
  {
   "cell_type": "code",
   "execution_count": 36,
   "id": "a95b8582",
   "metadata": {},
   "outputs": [],
   "source": [
    "dummy_df = pd.get_dummies(df['species'], drop_first=True)\n",
    "df = pd.concat([df, dummy_df], axis=1)"
   ]
  },
  {
   "cell_type": "markdown",
   "id": "187d2959",
   "metadata": {},
   "source": [
    "#### 5. Create a function named prep_iris that accepts the untransformed iris data, and returns the data with the transformations above applied.\n"
   ]
  },
  {
   "cell_type": "code",
   "execution_count": 37,
   "id": "683831a8",
   "metadata": {},
   "outputs": [],
   "source": [
    "def prep_iris(df):\n",
    "    df = df.drop(columns=['species_id', 'measurement_id'])\n",
    "    df = df.rename(columns={'species_name': 'species'})\n",
    "    dummy_df = pd.get_dummies(df['species'], drop_first=True)\n",
    "    df = pd.concat([df, dummy_df], axis=1)    \n",
    "    return df"
   ]
  },
  {
   "cell_type": "markdown",
   "id": "94031909",
   "metadata": {},
   "source": [
    "### Using the Titanic dataset"
   ]
  },
  {
   "cell_type": "markdown",
   "id": "8f8ba09c",
   "metadata": {},
   "source": [
    "#### 1. Use the function defined in acquire.py to load the Titanic data.\n"
   ]
  },
  {
   "cell_type": "code",
   "execution_count": 38,
   "id": "ccf6ef83",
   "metadata": {},
   "outputs": [
    {
     "name": "stdout",
     "output_type": "stream",
     "text": [
      "Reading from local CSV...\n"
     ]
    }
   ],
   "source": [
    "df = acquire.get_titanic_data()"
   ]
  },
  {
   "cell_type": "code",
   "execution_count": 39,
   "id": "f5eaf960",
   "metadata": {},
   "outputs": [
    {
     "data": {
      "text/html": [
       "<div>\n",
       "<style scoped>\n",
       "    .dataframe tbody tr th:only-of-type {\n",
       "        vertical-align: middle;\n",
       "    }\n",
       "\n",
       "    .dataframe tbody tr th {\n",
       "        vertical-align: top;\n",
       "    }\n",
       "\n",
       "    .dataframe thead th {\n",
       "        text-align: right;\n",
       "    }\n",
       "</style>\n",
       "<table border=\"1\" class=\"dataframe\">\n",
       "  <thead>\n",
       "    <tr style=\"text-align: right;\">\n",
       "      <th></th>\n",
       "      <th>passenger_id</th>\n",
       "      <th>survived</th>\n",
       "      <th>pclass</th>\n",
       "      <th>sex</th>\n",
       "      <th>age</th>\n",
       "      <th>sibsp</th>\n",
       "      <th>parch</th>\n",
       "      <th>fare</th>\n",
       "      <th>embarked</th>\n",
       "      <th>class</th>\n",
       "      <th>deck</th>\n",
       "      <th>embark_town</th>\n",
       "      <th>alone</th>\n",
       "    </tr>\n",
       "  </thead>\n",
       "  <tbody>\n",
       "    <tr>\n",
       "      <th>0</th>\n",
       "      <td>0</td>\n",
       "      <td>0</td>\n",
       "      <td>3</td>\n",
       "      <td>male</td>\n",
       "      <td>22.0</td>\n",
       "      <td>1</td>\n",
       "      <td>0</td>\n",
       "      <td>7.250</td>\n",
       "      <td>S</td>\n",
       "      <td>Third</td>\n",
       "      <td>NaN</td>\n",
       "      <td>Southampton</td>\n",
       "      <td>0</td>\n",
       "    </tr>\n",
       "    <tr>\n",
       "      <th>1</th>\n",
       "      <td>1</td>\n",
       "      <td>1</td>\n",
       "      <td>1</td>\n",
       "      <td>female</td>\n",
       "      <td>38.0</td>\n",
       "      <td>1</td>\n",
       "      <td>0</td>\n",
       "      <td>71.283</td>\n",
       "      <td>C</td>\n",
       "      <td>First</td>\n",
       "      <td>C</td>\n",
       "      <td>Cherbourg</td>\n",
       "      <td>0</td>\n",
       "    </tr>\n",
       "    <tr>\n",
       "      <th>2</th>\n",
       "      <td>2</td>\n",
       "      <td>1</td>\n",
       "      <td>3</td>\n",
       "      <td>female</td>\n",
       "      <td>26.0</td>\n",
       "      <td>0</td>\n",
       "      <td>0</td>\n",
       "      <td>7.925</td>\n",
       "      <td>S</td>\n",
       "      <td>Third</td>\n",
       "      <td>NaN</td>\n",
       "      <td>Southampton</td>\n",
       "      <td>1</td>\n",
       "    </tr>\n",
       "  </tbody>\n",
       "</table>\n",
       "</div>"
      ],
      "text/plain": [
       "   passenger_id  survived  pclass     sex   age  sibsp  parch    fare  \\\n",
       "0             0         0       3    male  22.0      1      0   7.250   \n",
       "1             1         1       1  female  38.0      1      0  71.283   \n",
       "2             2         1       3  female  26.0      0      0   7.925   \n",
       "\n",
       "  embarked  class deck  embark_town  alone  \n",
       "0        S  Third  NaN  Southampton      0  \n",
       "1        C  First    C    Cherbourg      0  \n",
       "2        S  Third  NaN  Southampton      1  "
      ]
     },
     "execution_count": 39,
     "metadata": {},
     "output_type": "execute_result"
    }
   ],
   "source": [
    "df.head(3)"
   ]
  },
  {
   "cell_type": "code",
   "execution_count": 40,
   "id": "d8b442f9",
   "metadata": {},
   "outputs": [
    {
     "name": "stdout",
     "output_type": "stream",
     "text": [
      "<class 'pandas.core.frame.DataFrame'>\n",
      "RangeIndex: 891 entries, 0 to 890\n",
      "Data columns (total 13 columns):\n",
      " #   Column        Non-Null Count  Dtype  \n",
      "---  ------        --------------  -----  \n",
      " 0   passenger_id  891 non-null    int64  \n",
      " 1   survived      891 non-null    int64  \n",
      " 2   pclass        891 non-null    int64  \n",
      " 3   sex           891 non-null    object \n",
      " 4   age           714 non-null    float64\n",
      " 5   sibsp         891 non-null    int64  \n",
      " 6   parch         891 non-null    int64  \n",
      " 7   fare          891 non-null    float64\n",
      " 8   embarked      889 non-null    object \n",
      " 9   class         891 non-null    object \n",
      " 10  deck          203 non-null    object \n",
      " 11  embark_town   889 non-null    object \n",
      " 12  alone         891 non-null    int64  \n",
      "dtypes: float64(2), int64(6), object(5)\n",
      "memory usage: 90.6+ KB\n"
     ]
    }
   ],
   "source": [
    "df.info()"
   ]
  },
  {
   "cell_type": "code",
   "execution_count": 41,
   "id": "cd1111ce",
   "metadata": {},
   "outputs": [
    {
     "data": {
      "text/plain": [
       "1    537\n",
       "0    354\n",
       "Name: alone, dtype: int64"
      ]
     },
     "execution_count": 41,
     "metadata": {},
     "output_type": "execute_result"
    }
   ],
   "source": [
    "df.alone.value_counts()"
   ]
  },
  {
   "cell_type": "code",
   "execution_count": 42,
   "id": "916e24ba",
   "metadata": {},
   "outputs": [
    {
     "data": {
      "text/plain": [
       "1    537\n",
       "Name: alone, dtype: int64"
      ]
     },
     "execution_count": 42,
     "metadata": {},
     "output_type": "execute_result"
    }
   ],
   "source": [
    "df.alone[(df.parch == 0) & (df.sibsp == 0)].value_counts()"
   ]
  },
  {
   "cell_type": "code",
   "execution_count": 43,
   "id": "ad869ff7",
   "metadata": {},
   "outputs": [
    {
     "data": {
      "text/plain": [
       "0    354\n",
       "Name: alone, dtype: int64"
      ]
     },
     "execution_count": 43,
     "metadata": {},
     "output_type": "execute_result"
    }
   ],
   "source": [
    "df.alone[(df.parch > 0) | (df.sibsp > 0)].value_counts()"
   ]
  },
  {
   "cell_type": "markdown",
   "id": "f8efa371",
   "metadata": {},
   "source": [
    "#### 2. Drop any unnecessary, unhelpful, or duplicated columns"
   ]
  },
  {
   "cell_type": "code",
   "execution_count": 44,
   "id": "cb5dbf5b",
   "metadata": {},
   "outputs": [],
   "source": [
    "# drop duplicate rows, if they exist:\n",
    "df = df.drop_duplicates()"
   ]
  },
  {
   "cell_type": "code",
   "execution_count": 45,
   "id": "8e9d5dd0",
   "metadata": {},
   "outputs": [],
   "source": [
    "# dropping columns\n",
    "\n",
    "# class gives the same info as pclass\n",
    "# embarked gives the same info as embarked_town\n",
    "# deck has too many missing values\n",
    "# age has too many missing values\n",
    "# alone gives duplicate info for the combination of parch and sibsp (see above)\n",
    "# passenger_id is simply an index\n",
    "\n",
    "df = df.drop(columns=['class', 'embarked', 'deck', 'age', 'alone', 'passenger_id'])"
   ]
  },
  {
   "cell_type": "markdown",
   "id": "6b95ff7b",
   "metadata": {},
   "source": [
    "#### 3. Encode the categorical columns. Create dummy variables of the categorical columns and concatenate them onto the dataframe."
   ]
  },
  {
   "cell_type": "code",
   "execution_count": 46,
   "id": "3bcc1713",
   "metadata": {},
   "outputs": [
    {
     "data": {
      "text/html": [
       "<div>\n",
       "<style scoped>\n",
       "    .dataframe tbody tr th:only-of-type {\n",
       "        vertical-align: middle;\n",
       "    }\n",
       "\n",
       "    .dataframe tbody tr th {\n",
       "        vertical-align: top;\n",
       "    }\n",
       "\n",
       "    .dataframe thead th {\n",
       "        text-align: right;\n",
       "    }\n",
       "</style>\n",
       "<table border=\"1\" class=\"dataframe\">\n",
       "  <thead>\n",
       "    <tr style=\"text-align: right;\">\n",
       "      <th></th>\n",
       "      <th>survived</th>\n",
       "      <th>pclass</th>\n",
       "      <th>sex</th>\n",
       "      <th>sibsp</th>\n",
       "      <th>parch</th>\n",
       "      <th>fare</th>\n",
       "      <th>embark_town</th>\n",
       "    </tr>\n",
       "  </thead>\n",
       "  <tbody>\n",
       "    <tr>\n",
       "      <th>0</th>\n",
       "      <td>0</td>\n",
       "      <td>3</td>\n",
       "      <td>male</td>\n",
       "      <td>1</td>\n",
       "      <td>0</td>\n",
       "      <td>7.250</td>\n",
       "      <td>Southampton</td>\n",
       "    </tr>\n",
       "    <tr>\n",
       "      <th>1</th>\n",
       "      <td>1</td>\n",
       "      <td>1</td>\n",
       "      <td>female</td>\n",
       "      <td>1</td>\n",
       "      <td>0</td>\n",
       "      <td>71.283</td>\n",
       "      <td>Cherbourg</td>\n",
       "    </tr>\n",
       "    <tr>\n",
       "      <th>2</th>\n",
       "      <td>1</td>\n",
       "      <td>3</td>\n",
       "      <td>female</td>\n",
       "      <td>0</td>\n",
       "      <td>0</td>\n",
       "      <td>7.925</td>\n",
       "      <td>Southampton</td>\n",
       "    </tr>\n",
       "    <tr>\n",
       "      <th>3</th>\n",
       "      <td>1</td>\n",
       "      <td>1</td>\n",
       "      <td>female</td>\n",
       "      <td>1</td>\n",
       "      <td>0</td>\n",
       "      <td>53.100</td>\n",
       "      <td>Southampton</td>\n",
       "    </tr>\n",
       "    <tr>\n",
       "      <th>4</th>\n",
       "      <td>0</td>\n",
       "      <td>3</td>\n",
       "      <td>male</td>\n",
       "      <td>0</td>\n",
       "      <td>0</td>\n",
       "      <td>8.050</td>\n",
       "      <td>Southampton</td>\n",
       "    </tr>\n",
       "  </tbody>\n",
       "</table>\n",
       "</div>"
      ],
      "text/plain": [
       "   survived  pclass     sex  sibsp  parch    fare  embark_town\n",
       "0         0       3    male      1      0   7.250  Southampton\n",
       "1         1       1  female      1      0  71.283    Cherbourg\n",
       "2         1       3  female      0      0   7.925  Southampton\n",
       "3         1       1  female      1      0  53.100  Southampton\n",
       "4         0       3    male      0      0   8.050  Southampton"
      ]
     },
     "execution_count": 46,
     "metadata": {},
     "output_type": "execute_result"
    }
   ],
   "source": [
    "df.head()"
   ]
  },
  {
   "cell_type": "code",
   "execution_count": 47,
   "id": "b7293b97",
   "metadata": {},
   "outputs": [],
   "source": [
    "categorical_columns = ['sex', 'embark_town']\n",
    "\n",
    "for col in categorical_columns:\n",
    "    dummy_df = pd.get_dummies(df[col],\n",
    "                              prefix=df[col].name,\n",
    "                              drop_first=True,\n",
    "                              dummy_na=False)\n",
    "    df = pd.concat([df, dummy_df], axis=1)\n",
    "    # drop original column\n",
    "    df = df.drop(columns=col)"
   ]
  },
  {
   "cell_type": "markdown",
   "id": "e272ad85",
   "metadata": {},
   "source": [
    "#### 4. Create a function named prep_titanic that accepts the raw titanic data, and returns the data with the transformations above applied."
   ]
  },
  {
   "cell_type": "code",
   "execution_count": 48,
   "id": "9fca3975",
   "metadata": {},
   "outputs": [],
   "source": [
    "def prep_titanic(df):\n",
    "\n",
    "    # drop duplicate rows, if they exist:\n",
    "    df = df.drop_duplicates()\n",
    "\n",
    "    # drop unnecessary columns\n",
    "    df = df.drop(columns=['class', 'embarked', 'deck', 'age', 'alone', 'passenger_id'])\n",
    "\n",
    "    # encode categorical columbns with dummy variables then drop the original columns\n",
    "    categorical_columns = ['sex', 'embark_town']\n",
    "    for col in categorical_columns:\n",
    "        dummy_df = pd.get_dummies(df[col],\n",
    "                                  prefix=df[col].name,\n",
    "                                  drop_first=True,\n",
    "                                  dummy_na=False)\n",
    "        df = pd.concat([df, dummy_df], axis=1)\n",
    "        df = df.drop(columns=col)\n",
    "        \n",
    "    return df"
   ]
  },
  {
   "cell_type": "markdown",
   "id": "e8a01c2e",
   "metadata": {},
   "source": [
    "### Using the Telco dataset"
   ]
  },
  {
   "cell_type": "markdown",
   "id": "ac068a6a",
   "metadata": {},
   "source": [
    "#### 1. Use the function defined in acquire.py to load the Telco data.\n"
   ]
  },
  {
   "cell_type": "code",
   "execution_count": 49,
   "id": "5ad64a6a",
   "metadata": {},
   "outputs": [
    {
     "name": "stdout",
     "output_type": "stream",
     "text": [
      "Reading from local CSV...\n"
     ]
    }
   ],
   "source": [
    "df = acquire.get_telco_data()"
   ]
  },
  {
   "cell_type": "code",
   "execution_count": 50,
   "id": "d8db7733",
   "metadata": {},
   "outputs": [
    {
     "data": {
      "text/html": [
       "<div>\n",
       "<style scoped>\n",
       "    .dataframe tbody tr th:only-of-type {\n",
       "        vertical-align: middle;\n",
       "    }\n",
       "\n",
       "    .dataframe tbody tr th {\n",
       "        vertical-align: top;\n",
       "    }\n",
       "\n",
       "    .dataframe thead th {\n",
       "        text-align: right;\n",
       "    }\n",
       "</style>\n",
       "<table border=\"1\" class=\"dataframe\">\n",
       "  <thead>\n",
       "    <tr style=\"text-align: right;\">\n",
       "      <th></th>\n",
       "      <th>payment_type_id</th>\n",
       "      <th>internet_service_type_id</th>\n",
       "      <th>contract_type_id</th>\n",
       "      <th>customer_id</th>\n",
       "      <th>gender</th>\n",
       "      <th>senior_citizen</th>\n",
       "      <th>partner</th>\n",
       "      <th>dependents</th>\n",
       "      <th>tenure</th>\n",
       "      <th>phone_service</th>\n",
       "      <th>multiple_lines</th>\n",
       "      <th>online_security</th>\n",
       "      <th>online_backup</th>\n",
       "      <th>device_protection</th>\n",
       "      <th>tech_support</th>\n",
       "      <th>streaming_tv</th>\n",
       "      <th>streaming_movies</th>\n",
       "      <th>paperless_billing</th>\n",
       "      <th>monthly_charges</th>\n",
       "      <th>total_charges</th>\n",
       "      <th>churn</th>\n",
       "      <th>contract_type</th>\n",
       "      <th>internet_service_type</th>\n",
       "      <th>payment_type</th>\n",
       "    </tr>\n",
       "  </thead>\n",
       "  <tbody>\n",
       "    <tr>\n",
       "      <th>0</th>\n",
       "      <td>2</td>\n",
       "      <td>1</td>\n",
       "      <td>2</td>\n",
       "      <td>0002-ORFBO</td>\n",
       "      <td>Female</td>\n",
       "      <td>0</td>\n",
       "      <td>Yes</td>\n",
       "      <td>Yes</td>\n",
       "      <td>9</td>\n",
       "      <td>Yes</td>\n",
       "      <td>No</td>\n",
       "      <td>No</td>\n",
       "      <td>Yes</td>\n",
       "      <td>No</td>\n",
       "      <td>Yes</td>\n",
       "      <td>Yes</td>\n",
       "      <td>No</td>\n",
       "      <td>Yes</td>\n",
       "      <td>65.6</td>\n",
       "      <td>593.3</td>\n",
       "      <td>No</td>\n",
       "      <td>One year</td>\n",
       "      <td>DSL</td>\n",
       "      <td>Mailed check</td>\n",
       "    </tr>\n",
       "    <tr>\n",
       "      <th>1</th>\n",
       "      <td>2</td>\n",
       "      <td>1</td>\n",
       "      <td>1</td>\n",
       "      <td>0003-MKNFE</td>\n",
       "      <td>Male</td>\n",
       "      <td>0</td>\n",
       "      <td>No</td>\n",
       "      <td>No</td>\n",
       "      <td>9</td>\n",
       "      <td>Yes</td>\n",
       "      <td>Yes</td>\n",
       "      <td>No</td>\n",
       "      <td>No</td>\n",
       "      <td>No</td>\n",
       "      <td>No</td>\n",
       "      <td>No</td>\n",
       "      <td>Yes</td>\n",
       "      <td>No</td>\n",
       "      <td>59.9</td>\n",
       "      <td>542.4</td>\n",
       "      <td>No</td>\n",
       "      <td>Month-to-month</td>\n",
       "      <td>DSL</td>\n",
       "      <td>Mailed check</td>\n",
       "    </tr>\n",
       "    <tr>\n",
       "      <th>2</th>\n",
       "      <td>1</td>\n",
       "      <td>2</td>\n",
       "      <td>1</td>\n",
       "      <td>0004-TLHLJ</td>\n",
       "      <td>Male</td>\n",
       "      <td>0</td>\n",
       "      <td>No</td>\n",
       "      <td>No</td>\n",
       "      <td>4</td>\n",
       "      <td>Yes</td>\n",
       "      <td>No</td>\n",
       "      <td>No</td>\n",
       "      <td>No</td>\n",
       "      <td>Yes</td>\n",
       "      <td>No</td>\n",
       "      <td>No</td>\n",
       "      <td>No</td>\n",
       "      <td>Yes</td>\n",
       "      <td>73.9</td>\n",
       "      <td>280.85</td>\n",
       "      <td>Yes</td>\n",
       "      <td>Month-to-month</td>\n",
       "      <td>Fiber optic</td>\n",
       "      <td>Electronic check</td>\n",
       "    </tr>\n",
       "  </tbody>\n",
       "</table>\n",
       "</div>"
      ],
      "text/plain": [
       "   payment_type_id  internet_service_type_id  contract_type_id customer_id  \\\n",
       "0                2                         1                 2  0002-ORFBO   \n",
       "1                2                         1                 1  0003-MKNFE   \n",
       "2                1                         2                 1  0004-TLHLJ   \n",
       "\n",
       "   gender  senior_citizen partner dependents  tenure phone_service  \\\n",
       "0  Female               0     Yes        Yes       9           Yes   \n",
       "1    Male               0      No         No       9           Yes   \n",
       "2    Male               0      No         No       4           Yes   \n",
       "\n",
       "  multiple_lines online_security online_backup device_protection tech_support  \\\n",
       "0             No              No           Yes                No          Yes   \n",
       "1            Yes              No            No                No           No   \n",
       "2             No              No            No               Yes           No   \n",
       "\n",
       "  streaming_tv streaming_movies paperless_billing  monthly_charges  \\\n",
       "0          Yes               No               Yes             65.6   \n",
       "1           No              Yes                No             59.9   \n",
       "2           No               No               Yes             73.9   \n",
       "\n",
       "  total_charges churn   contract_type internet_service_type      payment_type  \n",
       "0         593.3    No        One year                   DSL      Mailed check  \n",
       "1         542.4    No  Month-to-month                   DSL      Mailed check  \n",
       "2        280.85   Yes  Month-to-month           Fiber optic  Electronic check  "
      ]
     },
     "execution_count": 50,
     "metadata": {},
     "output_type": "execute_result"
    }
   ],
   "source": [
    "df.head(3)"
   ]
  },
  {
   "cell_type": "code",
   "execution_count": 51,
   "id": "77dc9b80",
   "metadata": {},
   "outputs": [
    {
     "name": "stdout",
     "output_type": "stream",
     "text": [
      "<class 'pandas.core.frame.DataFrame'>\n",
      "RangeIndex: 7043 entries, 0 to 7042\n",
      "Data columns (total 24 columns):\n",
      " #   Column                    Non-Null Count  Dtype  \n",
      "---  ------                    --------------  -----  \n",
      " 0   payment_type_id           7043 non-null   int64  \n",
      " 1   internet_service_type_id  7043 non-null   int64  \n",
      " 2   contract_type_id          7043 non-null   int64  \n",
      " 3   customer_id               7043 non-null   object \n",
      " 4   gender                    7043 non-null   object \n",
      " 5   senior_citizen            7043 non-null   int64  \n",
      " 6   partner                   7043 non-null   object \n",
      " 7   dependents                7043 non-null   object \n",
      " 8   tenure                    7043 non-null   int64  \n",
      " 9   phone_service             7043 non-null   object \n",
      " 10  multiple_lines            7043 non-null   object \n",
      " 11  online_security           7043 non-null   object \n",
      " 12  online_backup             7043 non-null   object \n",
      " 13  device_protection         7043 non-null   object \n",
      " 14  tech_support              7043 non-null   object \n",
      " 15  streaming_tv              7043 non-null   object \n",
      " 16  streaming_movies          7043 non-null   object \n",
      " 17  paperless_billing         7043 non-null   object \n",
      " 18  monthly_charges           7043 non-null   float64\n",
      " 19  total_charges             7043 non-null   object \n",
      " 20  churn                     7043 non-null   object \n",
      " 21  contract_type             7043 non-null   object \n",
      " 22  internet_service_type     7043 non-null   object \n",
      " 23  payment_type              7043 non-null   object \n",
      "dtypes: float64(1), int64(5), object(18)\n",
      "memory usage: 1.3+ MB\n"
     ]
    }
   ],
   "source": [
    "df.info()"
   ]
  },
  {
   "cell_type": "code",
   "execution_count": 52,
   "id": "78b9af77",
   "metadata": {},
   "outputs": [
    {
     "data": {
      "text/plain": [
       "(7043, 24)"
      ]
     },
     "execution_count": 52,
     "metadata": {},
     "output_type": "execute_result"
    }
   ],
   "source": [
    "df.shape"
   ]
  },
  {
   "cell_type": "code",
   "execution_count": 53,
   "id": "4413f41c",
   "metadata": {},
   "outputs": [],
   "source": [
    "# drop duplicate rows, if present\n",
    "df = df.drop_duplicates()"
   ]
  },
  {
   "cell_type": "code",
   "execution_count": 54,
   "id": "4df9ffe9",
   "metadata": {},
   "outputs": [],
   "source": [
    "# clean up total_charges column and cast as float\n",
    "df['total_charges'] = df.total_charges.replace(' ', np.nan).astype(float)"
   ]
  },
  {
   "cell_type": "code",
   "execution_count": 55,
   "id": "1da46494",
   "metadata": {},
   "outputs": [],
   "source": [
    "# removing brand new customers\n",
    "df = df[df.tenure != 0]"
   ]
  },
  {
   "cell_type": "markdown",
   "id": "ebbbe836",
   "metadata": {},
   "source": [
    "#### 2. Drop any unnecessary, unhelpful, or duplicated columns. This could mean dropping foreign key columns but keeping the corresponding string values, for example.\n"
   ]
  },
  {
   "cell_type": "code",
   "execution_count": 56,
   "id": "32ea45cb",
   "metadata": {},
   "outputs": [],
   "source": [
    "# type_id columns are simply foreign key columns that have corresponding string values\n",
    "# customer_id is a primary key that is not useful for our analysis\n",
    "df = df.drop(columns=['payment_type_id', 'internet_service_type_id', 'contract_type_id', 'customer_id'])"
   ]
  },
  {
   "cell_type": "markdown",
   "id": "b367951f",
   "metadata": {},
   "source": [
    "#### 3. Encode the categorical columns. Create dummy variables of the categorical columns and concatenate them onto the dataframe.\n"
   ]
  },
  {
   "cell_type": "code",
   "execution_count": 57,
   "id": "f4e7114d",
   "metadata": {},
   "outputs": [
    {
     "data": {
      "text/plain": [
       "['gender',\n",
       " 'partner',\n",
       " 'dependents',\n",
       " 'phone_service',\n",
       " 'multiple_lines',\n",
       " 'online_security',\n",
       " 'online_backup',\n",
       " 'device_protection',\n",
       " 'tech_support',\n",
       " 'streaming_tv',\n",
       " 'streaming_movies',\n",
       " 'paperless_billing',\n",
       " 'churn',\n",
       " 'contract_type',\n",
       " 'internet_service_type',\n",
       " 'payment_type']"
      ]
     },
     "execution_count": 57,
     "metadata": {},
     "output_type": "execute_result"
    }
   ],
   "source": [
    "categorical_columns = list(df.dtypes[df.dtypes == 'object'].index)\n",
    "categorical_columns"
   ]
  },
  {
   "cell_type": "code",
   "execution_count": 58,
   "id": "4fd3d0df",
   "metadata": {},
   "outputs": [],
   "source": [
    "for col in categorical_columns:\n",
    "    dummy_df = pd.get_dummies(df[col],\n",
    "                              prefix=df[col].name,\n",
    "                              drop_first=True,\n",
    "                              dummy_na=False)\n",
    "    df = pd.concat([df, dummy_df], axis=1)\n",
    "    df = df.drop(columns=col)"
   ]
  },
  {
   "cell_type": "code",
   "execution_count": 59,
   "id": "4e5b8805",
   "metadata": {},
   "outputs": [
    {
     "data": {
      "text/plain": [
       "senior_citizen                             int64\n",
       "tenure                                     int64\n",
       "monthly_charges                          float64\n",
       "total_charges                            float64\n",
       "gender_Male                                uint8\n",
       "partner_Yes                                uint8\n",
       "dependents_Yes                             uint8\n",
       "phone_service_Yes                          uint8\n",
       "multiple_lines_No phone service            uint8\n",
       "multiple_lines_Yes                         uint8\n",
       "online_security_No internet service        uint8\n",
       "online_security_Yes                        uint8\n",
       "online_backup_No internet service          uint8\n",
       "online_backup_Yes                          uint8\n",
       "device_protection_No internet service      uint8\n",
       "device_protection_Yes                      uint8\n",
       "tech_support_No internet service           uint8\n",
       "tech_support_Yes                           uint8\n",
       "streaming_tv_No internet service           uint8\n",
       "streaming_tv_Yes                           uint8\n",
       "streaming_movies_No internet service       uint8\n",
       "streaming_movies_Yes                       uint8\n",
       "paperless_billing_Yes                      uint8\n",
       "churn_Yes                                  uint8\n",
       "contract_type_One year                     uint8\n",
       "contract_type_Two year                     uint8\n",
       "internet_service_type_Fiber optic          uint8\n",
       "internet_service_type_None                 uint8\n",
       "payment_type_Credit card (automatic)       uint8\n",
       "payment_type_Electronic check              uint8\n",
       "payment_type_Mailed check                  uint8\n",
       "dtype: object"
      ]
     },
     "execution_count": 59,
     "metadata": {},
     "output_type": "execute_result"
    }
   ],
   "source": [
    "df.dtypes"
   ]
  },
  {
   "cell_type": "markdown",
   "id": "6441a086",
   "metadata": {},
   "source": [
    "#### 4. Create a function named prep_telco that accepts the raw telco data, and returns the data with the transformations above applied."
   ]
  },
  {
   "cell_type": "code",
   "execution_count": 60,
   "id": "19f6f9dc",
   "metadata": {},
   "outputs": [],
   "source": [
    "def prep_telco(df):\n",
    "    \n",
    "    # drop duplicate rows, if present\n",
    "    \n",
    "    df = df.drop_duplicates()\n",
    "    \n",
    "    # clean up total charges column and cast as float\n",
    "    df['total_charges'] = df.total_charges.replace(' ', np.nan).astype(float)\n",
    "    \n",
    "    # removing brand new customers\n",
    "    df = df[df.tenure != 0]\n",
    "    \n",
    "    # drop columns:\n",
    "    \n",
    "    # *_type_id columns are simply foreign key columns that have corresponding string values\n",
    "    # customer_id is a primary key that is not useful for our analysis\n",
    "    df = df.drop(columns=['payment_type_id', 'internet_service_type_id', 'contract_type_id', 'customer_id'])\n",
    "    \n",
    "    # encode categorical columns with dummy variables\n",
    "    \n",
    "    categorical_columns = list(df.dtypes[df.dtypes == 'object'].index)\n",
    "    \n",
    "    for col in categorical_columns:\n",
    "        dummy_df = pd.get_dummies(df[col],\n",
    "                                  prefix=df[col].name,\n",
    "                                  drop_first=True,\n",
    "                                  dummy_na=False)\n",
    "        df = pd.concat([df, dummy_df], axis=1)\n",
    "        df = df.drop(columns=col)\n",
    "        \n",
    "    return df"
   ]
  },
  {
   "cell_type": "markdown",
   "id": "d365d58c",
   "metadata": {},
   "source": [
    "# Exploratory Analysis - Exercises Part I"
   ]
  },
  {
   "cell_type": "markdown",
   "id": "57ba47e7",
   "metadata": {},
   "source": [
    "## Section 1 - Iris Data"
   ]
  },
  {
   "cell_type": "markdown",
   "id": "140825a1",
   "metadata": {},
   "source": [
    "### 1. Acquire, Prepare and Split your data"
   ]
  },
  {
   "cell_type": "markdown",
   "id": "de17eb6e",
   "metadata": {},
   "source": [
    "#### Acquire:"
   ]
  },
  {
   "cell_type": "code",
   "execution_count": 61,
   "id": "32f496e1",
   "metadata": {},
   "outputs": [
    {
     "name": "stdout",
     "output_type": "stream",
     "text": [
      "Reading from local CSV...\n"
     ]
    }
   ],
   "source": [
    "iris = acquire.get_iris_data()"
   ]
  },
  {
   "cell_type": "markdown",
   "id": "c3af91cf",
   "metadata": {},
   "source": [
    "#### Prepare:"
   ]
  },
  {
   "cell_type": "code",
   "execution_count": 62,
   "id": "8cbc596f",
   "metadata": {},
   "outputs": [],
   "source": [
    "iris = prepare.prep_iris(iris)"
   ]
  },
  {
   "cell_type": "markdown",
   "id": "9e265912",
   "metadata": {},
   "source": [
    "#### Split:"
   ]
  },
  {
   "cell_type": "code",
   "execution_count": 63,
   "id": "37b51b4e",
   "metadata": {},
   "outputs": [],
   "source": [
    "train, test = train_test_split(iris, test_size=.2, random_state=123, stratify=iris.species)\n",
    "train, validate = train_test_split(train, test_size=.3, random_state=123, stratify=train.species)"
   ]
  },
  {
   "cell_type": "code",
   "execution_count": 64,
   "id": "4a54856a",
   "metadata": {},
   "outputs": [
    {
     "data": {
      "text/plain": [
       "(84, 7)"
      ]
     },
     "execution_count": 64,
     "metadata": {},
     "output_type": "execute_result"
    }
   ],
   "source": [
    "train.shape"
   ]
  },
  {
   "cell_type": "code",
   "execution_count": 65,
   "id": "0e3fc846",
   "metadata": {},
   "outputs": [
    {
     "data": {
      "text/plain": [
       "(30, 7)"
      ]
     },
     "execution_count": 65,
     "metadata": {},
     "output_type": "execute_result"
    }
   ],
   "source": [
    "test.shape"
   ]
  },
  {
   "cell_type": "code",
   "execution_count": 66,
   "id": "041953d6",
   "metadata": {},
   "outputs": [
    {
     "data": {
      "text/plain": [
       "(36, 7)"
      ]
     },
     "execution_count": 66,
     "metadata": {},
     "output_type": "execute_result"
    }
   ],
   "source": [
    "validate.shape"
   ]
  },
  {
   "cell_type": "code",
   "execution_count": 67,
   "id": "e84f76e6",
   "metadata": {},
   "outputs": [
    {
     "data": {
      "text/html": [
       "<div>\n",
       "<style scoped>\n",
       "    .dataframe tbody tr th:only-of-type {\n",
       "        vertical-align: middle;\n",
       "    }\n",
       "\n",
       "    .dataframe tbody tr th {\n",
       "        vertical-align: top;\n",
       "    }\n",
       "\n",
       "    .dataframe thead th {\n",
       "        text-align: right;\n",
       "    }\n",
       "</style>\n",
       "<table border=\"1\" class=\"dataframe\">\n",
       "  <thead>\n",
       "    <tr style=\"text-align: right;\">\n",
       "      <th></th>\n",
       "      <th>species</th>\n",
       "      <th>sepal_length</th>\n",
       "      <th>sepal_width</th>\n",
       "      <th>petal_length</th>\n",
       "      <th>petal_width</th>\n",
       "      <th>versicolor</th>\n",
       "      <th>virginica</th>\n",
       "    </tr>\n",
       "  </thead>\n",
       "  <tbody>\n",
       "    <tr>\n",
       "      <th>79</th>\n",
       "      <td>versicolor</td>\n",
       "      <td>5.7</td>\n",
       "      <td>2.6</td>\n",
       "      <td>3.5</td>\n",
       "      <td>1.0</td>\n",
       "      <td>1</td>\n",
       "      <td>0</td>\n",
       "    </tr>\n",
       "    <tr>\n",
       "      <th>36</th>\n",
       "      <td>setosa</td>\n",
       "      <td>5.5</td>\n",
       "      <td>3.5</td>\n",
       "      <td>1.3</td>\n",
       "      <td>0.2</td>\n",
       "      <td>0</td>\n",
       "      <td>0</td>\n",
       "    </tr>\n",
       "    <tr>\n",
       "      <th>133</th>\n",
       "      <td>virginica</td>\n",
       "      <td>6.3</td>\n",
       "      <td>2.8</td>\n",
       "      <td>5.1</td>\n",
       "      <td>1.5</td>\n",
       "      <td>0</td>\n",
       "      <td>1</td>\n",
       "    </tr>\n",
       "  </tbody>\n",
       "</table>\n",
       "</div>"
      ],
      "text/plain": [
       "        species  sepal_length  sepal_width  petal_length  petal_width  \\\n",
       "79   versicolor           5.7          2.6           3.5          1.0   \n",
       "36       setosa           5.5          3.5           1.3          0.2   \n",
       "133   virginica           6.3          2.8           5.1          1.5   \n",
       "\n",
       "     versicolor  virginica  \n",
       "79            1          0  \n",
       "36            0          0  \n",
       "133           0          1  "
      ]
     },
     "execution_count": 67,
     "metadata": {},
     "output_type": "execute_result"
    }
   ],
   "source": [
    "train.head(3)"
   ]
  },
  {
   "cell_type": "code",
   "execution_count": 68,
   "id": "cfce5924",
   "metadata": {},
   "outputs": [
    {
     "name": "stdout",
     "output_type": "stream",
     "text": [
      "<class 'pandas.core.frame.DataFrame'>\n",
      "Int64Index: 84 entries, 79 to 73\n",
      "Data columns (total 7 columns):\n",
      " #   Column        Non-Null Count  Dtype  \n",
      "---  ------        --------------  -----  \n",
      " 0   species       84 non-null     object \n",
      " 1   sepal_length  84 non-null     float64\n",
      " 2   sepal_width   84 non-null     float64\n",
      " 3   petal_length  84 non-null     float64\n",
      " 4   petal_width   84 non-null     float64\n",
      " 5   versicolor    84 non-null     uint8  \n",
      " 6   virginica     84 non-null     uint8  \n",
      "dtypes: float64(4), object(1), uint8(2)\n",
      "memory usage: 4.1+ KB\n"
     ]
    }
   ],
   "source": [
    "train.info()"
   ]
  },
  {
   "cell_type": "markdown",
   "id": "5b477e73",
   "metadata": {},
   "source": [
    "### 2. Univariate Stats"
   ]
  },
  {
   "cell_type": "markdown",
   "id": "b9921f72",
   "metadata": {},
   "source": [
    "#### For each measurement type (quantitative variable): create a histogram, boxplot, and compute descriptive statistics (using.describe())"
   ]
  },
  {
   "cell_type": "code",
   "execution_count": 69,
   "id": "75c1a26a",
   "metadata": {
    "scrolled": false
   },
   "outputs": [
    {
     "data": {
      "image/png": "[encoded data removed]",
      "text/plain": [
       "<Figure size 432x288 with 1 Axes>"
      ]
     },
     "metadata": {
      "needs_background": "light"
     },
     "output_type": "display_data"
    },
    {
     "data": {
      "image/png": "[encoded data removed]",
      "text/plain": [
       "<Figure size 432x288 with 1 Axes>"
      ]
     },
     "metadata": {
      "needs_background": "light"
     },
     "output_type": "display_data"
    },
    {
     "name": "stdout",
     "output_type": "stream",
     "text": [
      "       sepal_length\n",
      "count        84.000\n",
      "mean          5.870\n",
      "std           0.769\n",
      "min           4.400\n",
      "25%           5.375\n",
      "50%           5.800\n",
      "75%           6.400\n",
      "max           7.900\n"
     ]
    },
    {
     "data": {
      "image/png": "[encoded data removed]",
      "text/plain": [
       "<Figure size 432x288 with 1 Axes>"
      ]
     },
     "metadata": {
      "needs_background": "light"
     },
     "output_type": "display_data"
    },
    {
     "data": {
      "image/png": "[encoded data removed]",
      "text/plain": [
       "<Figure size 432x288 with 1 Axes>"
      ]
     },
     "metadata": {
      "needs_background": "light"
     },
     "output_type": "display_data"
    },
    {
     "name": "stdout",
     "output_type": "stream",
     "text": [
      "       sepal_width\n",
      "count       84.000\n",
      "mean         3.075\n",
      "std          0.448\n",
      "min          2.200\n",
      "25%          2.800\n",
      "50%          3.000\n",
      "75%          3.400\n",
      "max          4.400\n"
     ]
    },
    {
     "data": {
      "image/png": "[encoded data removed]",
      "text/plain": [
       "<Figure size 432x288 with 1 Axes>"
      ]
     },
     "metadata": {
      "needs_background": "light"
     },
     "output_type": "display_data"
    },
    {
     "data": {
      "image/png": "[encoded data removed]",
      "text/plain": [
       "<Figure size 432x288 with 1 Axes>"
      ]
     },
     "metadata": {
      "needs_background": "light"
     },
     "output_type": "display_data"
    },
    {
     "name": "stdout",
     "output_type": "stream",
     "text": [
      "       petal_length\n",
      "count        84.000\n",
      "mean          3.771\n",
      "std           1.735\n",
      "min           1.200\n",
      "25%           1.600\n",
      "50%           4.250\n",
      "75%           5.100\n",
      "max           6.900\n"
     ]
    },
    {
     "data": {
      "image/png": "[encoded data removed]",
      "text/plain": [
       "<Figure size 432x288 with 1 Axes>"
      ]
     },
     "metadata": {
      "needs_background": "light"
     },
     "output_type": "display_data"
    },
    {
     "data": {
      "image/png": "[encoded data removed]",
      "text/plain": [
       "<Figure size 432x288 with 1 Axes>"
      ]
     },
     "metadata": {
      "needs_background": "light"
     },
     "output_type": "display_data"
    },
    {
     "name": "stdout",
     "output_type": "stream",
     "text": [
      "       petal_width\n",
      "count       84.000\n",
      "mean         1.204\n",
      "std          0.753\n",
      "min          0.100\n",
      "25%          0.400\n",
      "50%          1.300\n",
      "75%          1.800\n",
      "max          2.500\n"
     ]
    }
   ],
   "source": [
    "# identify the columns that contain data for quantitative variables\n",
    "quantitative_columns = [col for col in train.columns[train.dtypes == 'float64']]\n",
    "\n",
    "# for each of those columns:\n",
    "for col in quantitative_columns:\n",
    "        \n",
    "        # display a histogram of that column's distribution\n",
    "        sns.histplot(train[col], stat='proportion')\n",
    "        plt.show()\n",
    "        \n",
    "        # display a boxplot of that column's distribution\n",
    "        sns.boxplot(train[col])\n",
    "        plt.show()\n",
    "        \n",
    "        # display the summary statistics\n",
    "        print(pd.DataFrame(train[col].describe()))"
   ]
  },
  {
   "cell_type": "markdown",
   "id": "a11e4929",
   "metadata": {},
   "source": [
    "#### For each species (categorical variable): create a frequency table and a bar plot of those frequencies.\n"
   ]
  },
  {
   "cell_type": "code",
   "execution_count": 70,
   "id": "6f917b2f",
   "metadata": {},
   "outputs": [
    {
     "name": "stdout",
     "output_type": "stream",
     "text": [
      "            species_counts\n",
      "versicolor              28\n",
      "setosa                  28\n",
      "virginica               28\n"
     ]
    },
    {
     "data": {
      "image/png": "[encoded data removed]",
      "text/plain": [
       "<Figure size 432x288 with 1 Axes>"
      ]
     },
     "metadata": {
      "needs_background": "light"
     },
     "output_type": "display_data"
    }
   ],
   "source": [
    "# identify the columns that contain data for categorical variables\n",
    "categorical_columns = ['species']\n",
    "\n",
    "# for each of those columns\n",
    "for col in categorical_columns:\n",
    "    \n",
    "    # display a frequency table\n",
    "    print(pd.DataFrame(train[col].value_counts())\n",
    "          .rename(columns={col: f'{col}_counts'}))\n",
    "    \n",
    "    # display a bar plot of those frequencies\n",
    "    sns.countplot(data=train,\n",
    "                  x=col)\n",
    "    plt.title(f'{col}_counts')\n",
    "    plt.show()"
   ]
  },
  {
   "cell_type": "markdown",
   "id": "3aba6db7",
   "metadata": {},
   "source": [
    "#### Document takeaways and any actions"
   ]
  },
  {
   "cell_type": "code",
   "execution_count": null,
   "id": "8b31584e",
   "metadata": {},
   "outputs": [],
   "source": []
  },
  {
   "cell_type": "code",
   "execution_count": null,
   "id": "aa483ad8",
   "metadata": {},
   "outputs": [],
   "source": []
  },
  {
   "cell_type": "code",
   "execution_count": null,
   "id": "3a525f57",
   "metadata": {},
   "outputs": [],
   "source": []
  },
  {
   "cell_type": "markdown",
   "id": "b4bef20b",
   "metadata": {},
   "source": [
    "### 3. Bivariate Stats"
   ]
  },
  {
   "cell_type": "markdown",
   "id": "9242dc32",
   "metadata": {},
   "source": [
    "#### Visualize each measurement type (y-axis) with the species variable (x-axis) using barplots, adding a horizontal line showing the overall mean of the metric (y-axis). "
   ]
  },
  {
   "cell_type": "code",
   "execution_count": 71,
   "id": "b729cba8",
   "metadata": {
    "scrolled": false
   },
   "outputs": [
    {
     "data": {
      "image/png": "[encoded data removed]",
      "text/plain": [
       "<Figure size 432x288 with 1 Axes>"
      ]
     },
     "metadata": {
      "needs_background": "light"
     },
     "output_type": "display_data"
    },
    {
     "data": {
      "image/png": "[encoded data removed]",
      "text/plain": [
       "<Figure size 432x288 with 1 Axes>"
      ]
     },
     "metadata": {
      "needs_background": "light"
     },
     "output_type": "display_data"
    },
    {
     "data": {
      "image/png": "[encoded data removed]",
      "text/plain": [
       "<Figure size 432x288 with 1 Axes>"
      ]
     },
     "metadata": {
      "needs_background": "light"
     },
     "output_type": "display_data"
    },
    {
     "data": {
      "image/png": "[encoded data removed]",
      "text/plain": [
       "<Figure size 432x288 with 1 Axes>"
      ]
     },
     "metadata": {
      "needs_background": "light"
     },
     "output_type": "display_data"
    }
   ],
   "source": [
    "target = 'species'\n",
    "quantitative_columns = [col for col in train.columns[train.dtypes == 'float64']]\n",
    "\n",
    "for col in quantitative_columns:\n",
    "    sns.barplot(data=train,\n",
    "                x=target,\n",
    "                y=col)\n",
    "    plt.axhline(train[col].mean(), \n",
    "                ls='--', \n",
    "                color='black')\n",
    "    plt.xlabel(None)\n",
    "    plt.title(col, fontsize=14)\n",
    "    plt.show()"
   ]
  },
  {
   "cell_type": "markdown",
   "id": "7ad3a329",
   "metadata": {},
   "source": [
    "#### For each measurement type, compute the descriptive statistics for each species. "
   ]
  },
  {
   "cell_type": "code",
   "execution_count": 72,
   "id": "f2d2c965",
   "metadata": {},
   "outputs": [
    {
     "name": "stdout",
     "output_type": "stream",
     "text": [
      "sepal_length\n",
      "            count   mean    std  min    25%   50%    75%  max\n",
      "species                                                      \n",
      "setosa       28.0  5.089  0.360  4.4  4.875  5.00  5.400  5.8\n",
      "versicolor   28.0  5.896  0.426  4.9  5.600  5.80  6.125  6.9\n",
      "virginica    28.0  6.625  0.532  5.8  6.300  6.45  6.900  7.9\n",
      "--------------------------------------------------------------\n",
      "sepal_width\n",
      "            count   mean    std  min    25%  50%  75%  max\n",
      "species                                                   \n",
      "setosa       28.0  3.468  0.428  2.3  3.275  3.4  3.8  4.4\n",
      "versicolor   28.0  2.796  0.281  2.3  2.600  2.8  3.0  3.4\n",
      "virginica    28.0  2.961  0.319  2.2  2.800  3.0  3.1  3.8\n",
      "--------------------------------------------------------------\n",
      "petal_length\n",
      "            count   mean    std  min  25%   50%    75%  max\n",
      "species                                                    \n",
      "setosa       28.0  1.507  0.184  1.2  1.4  1.50  1.600  1.9\n",
      "versicolor   28.0  4.271  0.410  3.3  4.0  4.25  4.525  5.1\n",
      "virginica    28.0  5.536  0.497  4.8  5.1  5.50  5.800  6.9\n",
      "--------------------------------------------------------------\n",
      "petal_width\n",
      "            count   mean    std  min  25%  50%  75%  max\n",
      "species                                                 \n",
      "setosa       28.0  0.275  0.121  0.1  0.2  0.2  0.4  0.6\n",
      "versicolor   28.0  1.314  0.199  1.0  1.2  1.3  1.5  1.8\n",
      "virginica    28.0  2.021  0.294  1.5  1.8  2.0  2.3  2.5\n",
      "--------------------------------------------------------------\n"
     ]
    }
   ],
   "source": [
    "quantitative_columns = [col for col in train.columns[train.dtypes == 'float64']]\n",
    "target = 'species'\n",
    "line_break = ('-' * 62)\n",
    "\n",
    "for col in quantitative_columns:\n",
    "    print(col)\n",
    "    print(train.groupby(by=target)[col].describe())   \n",
    "    print(line_break)"
   ]
  },
  {
   "cell_type": "markdown",
   "id": "a28c9722",
   "metadata": {},
   "source": [
    "#### For virginica & versicolor: Compare the mean petal_width using the Mann-Whitney test (scipy.stats.mannwhitneyu) to see if there is a significant difference between the two groups. Do the same for the other measurement types.\n"
   ]
  },
  {
   "cell_type": "code",
   "execution_count": 73,
   "id": "f8dd96e1",
   "metadata": {},
   "outputs": [
    {
     "name": "stdout",
     "output_type": "stream",
     "text": [
      "MANN-WHITNEY U TEST FOR: SEPAL_LENGTH\n",
      "\n",
      "H0: mean sepal_length for train_virginica flowers = mean sepal_length for train_versicolor flowers\n",
      "H1: mean sepal_length for train_virginica flowers != mean sepal_length for train_versicolor flowers\n",
      "\n",
      "u = 676.5\n",
      "p = 0.0\n",
      "\n",
      "RESULT: Reject H0\n",
      "\n",
      "Since p < alpha:\n",
      "\n",
      "we reject the null hypothesis that:\n",
      "\n",
      "\tmean sepal_length for train_virginica flowers = mean sepal_length for train_versicolor flowers\n",
      "\n",
      "and we proceed under the assumption that:\n",
      "\n",
      "\tmean sepal_length for train_virginica flowers != mean sepal_length for train_versicolor flowers\n",
      "\n",
      "======================================================================================================\n",
      "\n",
      "MANN-WHITNEY U TEST FOR: SEPAL_WIDTH\n",
      "\n",
      "H0: mean sepal_width for train_virginica flowers = mean sepal_width for train_versicolor flowers\n",
      "H1: mean sepal_width for train_virginica flowers != mean sepal_width for train_versicolor flowers\n",
      "\n",
      "u = 510.0\n",
      "p = 0.0526\n",
      "\n",
      "RESULT: Fail to Reject H0\n",
      "\n",
      "Since p > alpha:\n",
      "\n",
      "we fail to reject the null hypothesis\n",
      "\n",
      "and we proceed under the assumption that:\n",
      "\n",
      "\tmean sepal_width for train_virginica flowers = mean sepal_width for train_versicolor flowers\n",
      "\n",
      "======================================================================================================\n",
      "\n",
      "MANN-WHITNEY U TEST FOR: PETAL_LENGTH\n",
      "\n",
      "H0: mean petal_length for train_virginica flowers = mean petal_length for train_versicolor flowers\n",
      "H1: mean petal_length for train_virginica flowers != mean petal_length for train_versicolor flowers\n",
      "\n",
      "u = 776.5\n",
      "p = 0.0\n",
      "\n",
      "RESULT: Reject H0\n",
      "\n",
      "Since p < alpha:\n",
      "\n",
      "we reject the null hypothesis that:\n",
      "\n",
      "\tmean petal_length for train_virginica flowers = mean petal_length for train_versicolor flowers\n",
      "\n",
      "and we proceed under the assumption that:\n",
      "\n",
      "\tmean petal_length for train_virginica flowers != mean petal_length for train_versicolor flowers\n",
      "\n",
      "======================================================================================================\n",
      "\n",
      "MANN-WHITNEY U TEST FOR: PETAL_WIDTH\n",
      "\n",
      "H0: mean petal_width for train_virginica flowers = mean petal_width for train_versicolor flowers\n",
      "H1: mean petal_width for train_virginica flowers != mean petal_width for train_versicolor flowers\n",
      "\n",
      "u = 767.0\n",
      "p = 0.0\n",
      "\n",
      "RESULT: Reject H0\n",
      "\n",
      "Since p < alpha:\n",
      "\n",
      "we reject the null hypothesis that:\n",
      "\n",
      "\tmean petal_width for train_virginica flowers = mean petal_width for train_versicolor flowers\n",
      "\n",
      "and we proceed under the assumption that:\n",
      "\n",
      "\tmean petal_width for train_virginica flowers != mean petal_width for train_versicolor flowers\n",
      "\n",
      "======================================================================================================\n",
      "\n"
     ]
    }
   ],
   "source": [
    "# get the data\n",
    "train_virginica = train[train.species == 'virginica']\n",
    "train_versicolor = train[train.species == 'versicolor']\n",
    "\n",
    "# identify the columns on which to conduct the test (those that contain data for quantitative variables)\n",
    "quantitative_columns = [col for col in train.columns[train.dtypes == 'float64']]\n",
    "\n",
    "# for each of the columns with quantitative variables:\n",
    "for col in quantitative_columns:\n",
    "    \n",
    "    # establish hypothesis and alpha level\n",
    "    H0 = f'mean {col} for train_virginica flowers = mean {col} for train_versicolor flowers'\n",
    "    H1 = f'mean {col} for train_virginica flowers != mean {col} for train_versicolor flowers'\n",
    "    alpha = .05\n",
    "\n",
    "    # conduct the test\n",
    "    u, p = stats.mannwhitneyu(train_virginica[col], train_versicolor[col])\n",
    "    \n",
    "    # display test info and results\n",
    "    line_break = ('\\n' + '=' * 102 + '\\n')\n",
    "    print(f'MANN-WHITNEY U TEST FOR: {col.upper()}')\n",
    "    print()\n",
    "    print(f'H0: {H0}')\n",
    "    print(f'H1: {H1}')\n",
    "    print()\n",
    "    print(f'u = {u}')\n",
    "    print(f'p = {p.round(4)}')\n",
    "    print()\n",
    "    if p < alpha:\n",
    "        print('RESULT: Reject H0\\n')\n",
    "        print(f'Since p < alpha:\\n')\n",
    "        print(f'we reject the null hypothesis that:\\n\\n\\t{H0}\\n')\n",
    "        print(f'and we proceed under the assumption that:\\n\\n\\t{H1}')\n",
    "    elif p > alpha:\n",
    "        print('RESULT: Fail to Reject H0\\n')\n",
    "        print(f'Since p > alpha:\\n')\n",
    "        print(f'we fail to reject the null hypothesis\\n')\n",
    "        print(f'and we proceed under the assumption that:\\n\\n\\t{H0}')\n",
    "    print(line_break)"
   ]
  },
  {
   "cell_type": "markdown",
   "id": "c5f4dac5",
   "metadata": {},
   "source": [
    "#### Document takeaways and any actions"
   ]
  },
  {
   "cell_type": "code",
   "execution_count": null,
   "id": "efc21b6b",
   "metadata": {},
   "outputs": [],
   "source": []
  },
  {
   "cell_type": "code",
   "execution_count": null,
   "id": "c389a7a6",
   "metadata": {},
   "outputs": [],
   "source": []
  },
  {
   "cell_type": "code",
   "execution_count": null,
   "id": "227b8bfb",
   "metadata": {},
   "outputs": [],
   "source": []
  },
  {
   "cell_type": "markdown",
   "id": "30faed1e",
   "metadata": {},
   "source": [
    "### 4. Multivariate Stats"
   ]
  },
  {
   "cell_type": "markdown",
   "id": "cea8a7d0",
   "metadata": {},
   "source": [
    "#### Visualize the interaction of each measurement type with the others using a pairplot (or scatter matrix or something similar) and add color to represent species.\n"
   ]
  },
  {
   "cell_type": "code",
   "execution_count": 74,
   "id": "65057bd5",
   "metadata": {},
   "outputs": [
    {
     "data": {
      "image/png": "[encoded data removed]",
      "text/plain": [
       "<Figure size 720x720 with 20 Axes>"
      ]
     },
     "metadata": {
      "needs_background": "light"
     },
     "output_type": "display_data"
    }
   ],
   "source": [
    "g = sns.PairGrid(train.drop(columns=['virginica', 'versicolor']), hue='species')\n",
    "g.map_upper(sns.scatterplot)\n",
    "g.map_lower(sns.kdeplot)\n",
    "g.map_diag(sns.kdeplot, legend=False)\n",
    "plt.show()"
   ]
  },
  {
   "cell_type": "code",
   "execution_count": 75,
   "id": "189d2626",
   "metadata": {},
   "outputs": [
    {
     "data": {
      "image/png": "[encoded data removed]",
      "text/plain": [
       "<Figure size 432x288 with 2 Axes>"
      ]
     },
     "metadata": {
      "needs_background": "light"
     },
     "output_type": "display_data"
    }
   ],
   "source": [
    "sns.heatmap(train.drop(columns=['versicolor', 'virginica']).corr().abs(), annot=True)\n",
    "plt.show()"
   ]
  },
  {
   "cell_type": "markdown",
   "id": "d92ca10a",
   "metadata": {},
   "source": [
    "#### Visualize two numeric variables by means of the species. Hint: sns.relplot with hue or col\n"
   ]
  },
  {
   "cell_type": "code",
   "execution_count": 76,
   "id": "69b10365",
   "metadata": {},
   "outputs": [
    {
     "data": {
      "image/png": "[encoded data removed]",
      "text/plain": [
       "<Figure size 444.75x360 with 1 Axes>"
      ]
     },
     "metadata": {
      "needs_background": "light"
     },
     "output_type": "display_data"
    }
   ],
   "source": [
    "sns.relplot(x='petal_length',\n",
    "            y='petal_width',\n",
    "            data=train,\n",
    "            hue='species')\n",
    "plt.show()"
   ]
  },
  {
   "cell_type": "markdown",
   "id": "4a64903c",
   "metadata": {},
   "source": [
    "#### Create a swarmplot using a melted dataframe of all your numeric variables. The x-axis should be the variable name, the y-axis the measure. Add another dimension using color to represent species. Document takeaways from this visualization.\n"
   ]
  },
  {
   "cell_type": "code",
   "execution_count": 77,
   "id": "d0ef3888",
   "metadata": {},
   "outputs": [
    {
     "data": {
      "image/png": "[encoded data removed]",
      "text/plain": [
       "<Figure size 432x288 with 1 Axes>"
      ]
     },
     "metadata": {
      "needs_background": "light"
     },
     "output_type": "display_data"
    }
   ],
   "source": [
    "train_melt = train.drop(columns=['versicolor', 'virginica']).melt(id_vars='species')\n",
    "\n",
    "sns.swarmplot(data=train_melt,\n",
    "              x='variable',\n",
    "              y='value',\n",
    "              hue='species')\n",
    "plt.xlabel(None)\n",
    "plt.show()"
   ]
  },
  {
   "cell_type": "markdown",
   "id": "e4116b2d",
   "metadata": {},
   "source": [
    "#### Ask a specific question of the data, such as: is the sepal area signficantly different in virginica compared to setosa? Answer the question through both a plot and using a mann-whitney or t-test. If you use a t-test, be sure assumptions are met (independence, normality, equal variance).\n"
   ]
  },
  {
   "cell_type": "markdown",
   "id": "72cedb7a",
   "metadata": {},
   "source": [
    "Is the petal area significantly different in virginica compared to setosa?"
   ]
  },
  {
   "cell_type": "code",
   "execution_count": 78,
   "id": "0676cbf3",
   "metadata": {},
   "outputs": [],
   "source": [
    "# get the data\n",
    "\n",
    "train['petal_area'] = train.petal_width * train.petal_length\n",
    "\n",
    "train_virginica = train[train.species == 'virginica']\n",
    "train_setosa = train[train.species == 'setosa']\n"
   ]
  },
  {
   "cell_type": "code",
   "execution_count": 79,
   "id": "ece44549",
   "metadata": {},
   "outputs": [],
   "source": [
    "# establish hypotheses\n",
    "\n",
    "H0 = 'mean of petal_area for virginica flowers = mean of petal_area for setosa flowers'\n",
    "H1 = 'mean of petal_area for virginica flowers != mean of petal_area for setosa flowers'\n"
   ]
  },
  {
   "cell_type": "code",
   "execution_count": 80,
   "id": "25797808",
   "metadata": {},
   "outputs": [],
   "source": [
    "# validate assumptions - independence\n",
    "# yes, they are independent (no reason to think they're not independent)"
   ]
  },
  {
   "cell_type": "code",
   "execution_count": 81,
   "id": "836cb5cb",
   "metadata": {},
   "outputs": [
    {
     "name": "stdout",
     "output_type": "stream",
     "text": [
      "virginica variance:  4.54\n",
      "setosa variance:  0.04\n",
      "levene test p-value:  9.031062134424305e-08\n"
     ]
    }
   ],
   "source": [
    "# validate assumptions - variance\n",
    "print('virginica variance: ', round(train_virginica.petal_area.var(), 2))\n",
    "print('setosa variance: ', round(train_setosa.petal_area.var(), 2))\n",
    "\n",
    "stat, p = stats.levene(train_virginica.petal_area, train_setosa.petal_area)\n",
    "print('levene test p-value: ', p)\n",
    "\n",
    "# they do not have equal variances"
   ]
  },
  {
   "cell_type": "code",
   "execution_count": 82,
   "id": "a088a90e",
   "metadata": {},
   "outputs": [
    {
     "data": {
      "image/png": "[encoded data removed]",
      "text/plain": [
       "<Figure size 432x288 with 1 Axes>"
      ]
     },
     "metadata": {
      "needs_background": "light"
     },
     "output_type": "display_data"
    },
    {
     "data": {
      "image/png": "[encoded data removed]",
      "text/plain": [
       "<Figure size 432x288 with 1 Axes>"
      ]
     },
     "metadata": {
      "needs_background": "light"
     },
     "output_type": "display_data"
    }
   ],
   "source": [
    "# validate assumptions - normality\n",
    "\n",
    "plt.hist(train_virginica.petal_area)\n",
    "plt.title(f'virginica petal area n = {train_virginica.shape[0]}')\n",
    "plt.show()\n",
    "\n",
    "plt.hist(train_setosa.petal_area)\n",
    "plt.title(f'setosa petal area n = {train_setosa.shape[0]}')\n",
    "plt.show()\n",
    "\n",
    "# virginica petal area appears approximately normal, with the bulk of observations \n",
    "# concentrated in the middle values, and tailedness on each end. \n",
    "\n",
    "# however, setosa appears heavily skewed to the right\n",
    "\n",
    "# in addition, we only have 28 observations for each category\n",
    "\n",
    "# therefore, we will not assume normality for testing purposes"
   ]
  },
  {
   "cell_type": "code",
   "execution_count": 83,
   "id": "70d5316c",
   "metadata": {},
   "outputs": [
    {
     "name": "stdout",
     "output_type": "stream",
     "text": [
      "MANN-WHITNEY U TEST FOR: PETAL_WIDTH\n",
      "\n",
      "H0: mean of petal_area for virginica flowers = mean of petal_area for setosa flowers\n",
      "H1: mean of petal_area for virginica flowers != mean of petal_area for setosa flowers\n",
      "\n",
      "u = 784.0\n",
      "p = 0.0\n",
      "\n",
      "RESULT: Reject H0\n",
      "\n",
      "Since p < alpha:\n",
      "\n",
      "we reject the null hypothesis that:\n",
      "\n",
      "\tmean of petal_area for virginica flowers = mean of petal_area for setosa flowers\n",
      "\n",
      "and we proceed under the assumption that:\n",
      "\n",
      "\tmean of petal_area for virginica flowers != mean of petal_area for setosa flowers\n",
      "\n",
      "======================================================================================================\n",
      "\n"
     ]
    }
   ],
   "source": [
    "# conduct the test - Mann Whitney U\n",
    "u, p = stats.mannwhitneyu(train_virginica.petal_area, train_setosa.petal_area)\n",
    "\n",
    "# display test info and results\n",
    "line_break = ('\\n' + '=' * 102 + '\\n')\n",
    "print(f'MANN-WHITNEY U TEST FOR: {col.upper()}')\n",
    "print()\n",
    "print(f'H0: {H0}')\n",
    "print(f'H1: {H1}')\n",
    "print()\n",
    "print(f'u = {u}')\n",
    "print(f'p = {p.round(4)}')\n",
    "print()\n",
    "if p < alpha:\n",
    "    print('RESULT: Reject H0\\n')\n",
    "    print(f'Since p < alpha:\\n')\n",
    "    print(f'we reject the null hypothesis that:\\n\\n\\t{H0}\\n')\n",
    "    print(f'and we proceed under the assumption that:\\n\\n\\t{H1}')\n",
    "elif p > alpha:\n",
    "    print('RESULT: Fail to Reject H0\\n')\n",
    "    print(f'Since p > alpha:\\n')\n",
    "    print(f'we fail to reject the null hypothesis\\n')\n",
    "    print(f'and we proceed under the assumption that:\\n\\n\\t{H0}')\n",
    "print(line_break)\n"
   ]
  },
  {
   "cell_type": "markdown",
   "id": "823de20b",
   "metadata": {},
   "source": [
    "#### Document takeaways and any actions.\n"
   ]
  },
  {
   "cell_type": "code",
   "execution_count": null,
   "id": "4cb6692b",
   "metadata": {},
   "outputs": [],
   "source": []
  },
  {
   "cell_type": "code",
   "execution_count": null,
   "id": "6b8b2296",
   "metadata": {},
   "outputs": [],
   "source": []
  },
  {
   "cell_type": "code",
   "execution_count": null,
   "id": "f8cb71c5",
   "metadata": {},
   "outputs": [],
   "source": []
  },
  {
   "cell_type": "markdown",
   "id": "5a331211",
   "metadata": {},
   "source": [
    "# Exploratory Analysis - Exercises Part II"
   ]
  },
  {
   "cell_type": "markdown",
   "id": "c7462b11",
   "metadata": {},
   "source": [
    "### Explore your titanic dataset more completely."
   ]
  },
  {
   "cell_type": "code",
   "execution_count": 84,
   "id": "6b5ed0a9",
   "metadata": {},
   "outputs": [
    {
     "name": "stdout",
     "output_type": "stream",
     "text": [
      "Reading from local CSV...\n"
     ]
    }
   ],
   "source": [
    "titanic = acquire.get_titanic_data()"
   ]
  },
  {
   "cell_type": "code",
   "execution_count": 85,
   "id": "c93356a4",
   "metadata": {},
   "outputs": [],
   "source": [
    "titanic = prepare.prep_titanic(titanic, drop_after_encoding=False)"
   ]
  },
  {
   "cell_type": "code",
   "execution_count": 86,
   "id": "5ea97a99",
   "metadata": {},
   "outputs": [],
   "source": [
    "train, test = train_test_split(titanic, test_size=.2, random_state=123, stratify=titanic.survived)"
   ]
  },
  {
   "cell_type": "code",
   "execution_count": 87,
   "id": "43c42808",
   "metadata": {},
   "outputs": [],
   "source": [
    "train, validate = train_test_split(train, test_size=.3, random_state=123, stratify=train.survived)"
   ]
  },
  {
   "cell_type": "markdown",
   "id": "d925fc5a",
   "metadata": {},
   "source": [
    "#### Determine drivers of the target variable"
   ]
  },
  {
   "cell_type": "code",
   "execution_count": 88,
   "id": "011f707f",
   "metadata": {},
   "outputs": [
    {
     "data": {
      "text/plain": [
       "(498, 12)"
      ]
     },
     "execution_count": 88,
     "metadata": {},
     "output_type": "execute_result"
    }
   ],
   "source": [
    "train.shape"
   ]
  },
  {
   "cell_type": "code",
   "execution_count": 89,
   "id": "ce7bc4a3",
   "metadata": {},
   "outputs": [
    {
     "name": "stdout",
     "output_type": "stream",
     "text": [
      "<class 'pandas.core.frame.DataFrame'>\n",
      "Int64Index: 498 entries, 583 to 744\n",
      "Data columns (total 12 columns):\n",
      " #   Column                   Non-Null Count  Dtype  \n",
      "---  ------                   --------------  -----  \n",
      " 0   survived                 498 non-null    int64  \n",
      " 1   pclass                   498 non-null    int64  \n",
      " 2   sex                      498 non-null    object \n",
      " 3   n_sibs_and_spouse        498 non-null    int64  \n",
      " 4   n_parents_and_children   498 non-null    int64  \n",
      " 5   fare                     498 non-null    float64\n",
      " 6   embark_town              497 non-null    object \n",
      " 7   alone                    498 non-null    int64  \n",
      " 8   family_size              498 non-null    int64  \n",
      " 9   sex_male                 498 non-null    uint8  \n",
      " 10  embark_town_Queenstown   498 non-null    uint8  \n",
      " 11  embark_town_Southampton  498 non-null    uint8  \n",
      "dtypes: float64(1), int64(6), object(2), uint8(3)\n",
      "memory usage: 40.4+ KB\n"
     ]
    }
   ],
   "source": [
    "train.info()"
   ]
  },
  {
   "cell_type": "code",
   "execution_count": 90,
   "id": "830d6089",
   "metadata": {},
   "outputs": [
    {
     "name": "stdout",
     "output_type": "stream",
     "text": [
      "Column: survived\n",
      "Unique Values: [0 1]\n",
      "----------\n",
      "Column: pclass\n",
      "Unique Values: [1 3 2]\n",
      "----------\n",
      "Column: sex\n",
      "Unique Values: ['male' 'female']\n",
      "----------\n",
      "Column: n_sibs_and_spouse\n",
      "Unique Values: [0 4 1 8 2 3 5]\n",
      "----------\n",
      "Column: n_parents_and_children\n",
      "Unique Values: [0 2 1 3 5 4]\n",
      "----------\n",
      "Column: embark_town\n",
      "Unique Values: ['Cherbourg' 'Southampton' 'Queenstown' nan]\n",
      "----------\n",
      "Column: alone\n",
      "Unique Values: [1 0]\n",
      "----------\n",
      "Column: family_size\n",
      "Unique Values: [ 0  2  5  1 10  4  3  6  7]\n",
      "----------\n",
      "Column: sex_male\n",
      "Unique Values: [1 0]\n",
      "----------\n",
      "Column: embark_town_Queenstown\n",
      "Unique Values: [0 1]\n",
      "----------\n",
      "Column: embark_town_Southampton\n",
      "Unique Values: [0 1]\n",
      "----------\n"
     ]
    }
   ],
   "source": [
    "explore.display_uniques_1(train)"
   ]
  },
  {
   "cell_type": "code",
   "execution_count": 91,
   "id": "b6780d7f",
   "metadata": {},
   "outputs": [
    {
     "data": {
      "text/html": [
       "<div>\n",
       "<style scoped>\n",
       "    .dataframe tbody tr th:only-of-type {\n",
       "        vertical-align: middle;\n",
       "    }\n",
       "\n",
       "    .dataframe tbody tr th {\n",
       "        vertical-align: top;\n",
       "    }\n",
       "\n",
       "    .dataframe thead th {\n",
       "        text-align: right;\n",
       "    }\n",
       "</style>\n",
       "<table border=\"1\" class=\"dataframe\">\n",
       "  <thead>\n",
       "    <tr style=\"text-align: right;\">\n",
       "      <th></th>\n",
       "      <th>survived</th>\n",
       "      <th>pclass</th>\n",
       "      <th>sex</th>\n",
       "      <th>n_sibs_and_spouse</th>\n",
       "      <th>n_parents_and_children</th>\n",
       "      <th>fare</th>\n",
       "      <th>embark_town</th>\n",
       "      <th>alone</th>\n",
       "      <th>family_size</th>\n",
       "      <th>sex_male</th>\n",
       "      <th>embark_town_Queenstown</th>\n",
       "      <th>embark_town_Southampton</th>\n",
       "    </tr>\n",
       "  </thead>\n",
       "  <tbody>\n",
       "    <tr>\n",
       "      <th>583</th>\n",
       "      <td>0</td>\n",
       "      <td>1</td>\n",
       "      <td>male</td>\n",
       "      <td>0</td>\n",
       "      <td>0</td>\n",
       "      <td>40.125</td>\n",
       "      <td>Cherbourg</td>\n",
       "      <td>1</td>\n",
       "      <td>0</td>\n",
       "      <td>1</td>\n",
       "      <td>0</td>\n",
       "      <td>0</td>\n",
       "    </tr>\n",
       "    <tr>\n",
       "      <th>165</th>\n",
       "      <td>1</td>\n",
       "      <td>3</td>\n",
       "      <td>male</td>\n",
       "      <td>0</td>\n",
       "      <td>2</td>\n",
       "      <td>20.525</td>\n",
       "      <td>Southampton</td>\n",
       "      <td>0</td>\n",
       "      <td>2</td>\n",
       "      <td>1</td>\n",
       "      <td>0</td>\n",
       "      <td>1</td>\n",
       "    </tr>\n",
       "    <tr>\n",
       "      <th>50</th>\n",
       "      <td>0</td>\n",
       "      <td>3</td>\n",
       "      <td>male</td>\n",
       "      <td>4</td>\n",
       "      <td>1</td>\n",
       "      <td>39.688</td>\n",
       "      <td>Southampton</td>\n",
       "      <td>0</td>\n",
       "      <td>5</td>\n",
       "      <td>1</td>\n",
       "      <td>0</td>\n",
       "      <td>1</td>\n",
       "    </tr>\n",
       "  </tbody>\n",
       "</table>\n",
       "</div>"
      ],
      "text/plain": [
       "     survived  pclass   sex  n_sibs_and_spouse  n_parents_and_children  \\\n",
       "583         0       1  male                  0                       0   \n",
       "165         1       3  male                  0                       2   \n",
       "50          0       3  male                  4                       1   \n",
       "\n",
       "       fare  embark_town  alone  family_size  sex_male  \\\n",
       "583  40.125    Cherbourg      1            0         1   \n",
       "165  20.525  Southampton      0            2         1   \n",
       "50   39.688  Southampton      0            5         1   \n",
       "\n",
       "     embark_town_Queenstown  embark_town_Southampton  \n",
       "583                       0                        0  \n",
       "165                       0                        1  \n",
       "50                        0                        1  "
      ]
     },
     "execution_count": 91,
     "metadata": {},
     "output_type": "execute_result"
    }
   ],
   "source": [
    "train.head(3)"
   ]
  },
  {
   "cell_type": "markdown",
   "id": "a7ecad59",
   "metadata": {},
   "source": [
    "Univariate Stat Exploration:"
   ]
  },
  {
   "cell_type": "code",
   "execution_count": 92,
   "id": "0a169c33",
   "metadata": {
    "scrolled": false
   },
   "outputs": [
    {
     "data": {
      "image/png": "[encoded data removed]",
      "text/plain": [
       "<Figure size 432x288 with 1 Axes>"
      ]
     },
     "metadata": {
      "needs_background": "light"
     },
     "output_type": "display_data"
    },
    {
     "data": {
      "image/png": "[encoded data removed]",
      "text/plain": [
       "<Figure size 432x288 with 1 Axes>"
      ]
     },
     "metadata": {
      "needs_background": "light"
     },
     "output_type": "display_data"
    },
    {
     "name": "stdout",
     "output_type": "stream",
     "text": [
      "          fare\n",
      "count  498.000\n",
      "mean    31.130\n",
      "std     47.162\n",
      "min      0.000\n",
      "25%      7.896\n",
      "50%     13.500\n",
      "75%     30.393\n",
      "max    512.329\n"
     ]
    },
    {
     "data": {
      "image/png": "[encoded data removed]",
      "text/plain": [
       "<Figure size 432x288 with 1 Axes>"
      ]
     },
     "metadata": {
      "needs_background": "light"
     },
     "output_type": "display_data"
    },
    {
     "data": {
      "image/png": "[encoded data removed]",
      "text/plain": [
       "<Figure size 432x288 with 1 Axes>"
      ]
     },
     "metadata": {
      "needs_background": "light"
     },
     "output_type": "display_data"
    },
    {
     "name": "stdout",
     "output_type": "stream",
     "text": [
      "       n_sibs_and_spouse\n",
      "count            498.000\n",
      "mean               0.496\n",
      "std                1.132\n",
      "min                0.000\n",
      "25%                0.000\n",
      "50%                0.000\n",
      "75%                1.000\n",
      "max                8.000\n"
     ]
    },
    {
     "data": {
      "image/png": "[encoded data removed]",
      "text/plain": [
       "<Figure size 432x288 with 1 Axes>"
      ]
     },
     "metadata": {
      "needs_background": "light"
     },
     "output_type": "display_data"
    },
    {
     "data": {
      "image/png": "[encoded data removed]",
      "text/plain": [
       "<Figure size 432x288 with 1 Axes>"
      ]
     },
     "metadata": {
      "needs_background": "light"
     },
     "output_type": "display_data"
    },
    {
     "name": "stdout",
     "output_type": "stream",
     "text": [
      "       n_parents_and_children\n",
      "count                 498.000\n",
      "mean                    0.353\n",
      "std                     0.764\n",
      "min                     0.000\n",
      "25%                     0.000\n",
      "50%                     0.000\n",
      "75%                     0.000\n",
      "max                     5.000\n"
     ]
    },
    {
     "data": {
      "image/png": "[encoded data removed]",
      "text/plain": [
       "<Figure size 432x288 with 1 Axes>"
      ]
     },
     "metadata": {
      "needs_background": "light"
     },
     "output_type": "display_data"
    },
    {
     "data": {
      "image/png": "[encoded data removed]",
      "text/plain": [
       "<Figure size 432x288 with 1 Axes>"
      ]
     },
     "metadata": {
      "needs_background": "light"
     },
     "output_type": "display_data"
    },
    {
     "name": "stdout",
     "output_type": "stream",
     "text": [
      "       family_size\n",
      "count      498.000\n",
      "mean         0.849\n",
      "std          1.610\n",
      "min          0.000\n",
      "25%          0.000\n",
      "50%          0.000\n",
      "75%          1.000\n",
      "max         10.000\n"
     ]
    }
   ],
   "source": [
    "# identify the columns that contain data for quantitative variables\n",
    "quantitative_columns = ['fare', 'n_sibs_and_spouse', 'n_parents_and_children', 'family_size',]\n",
    "\n",
    "# for each of those columns:\n",
    "for col in quantitative_columns:\n",
    "        \n",
    "        # display a histogram of that column's distribution\n",
    "        sns.histplot(train[col], stat='proportion')\n",
    "        plt.show()\n",
    "        \n",
    "        # display a boxplot of that column's distribution\n",
    "        sns.boxplot(train[col])\n",
    "        plt.show()\n",
    "        \n",
    "        # display the summary statistics\n",
    "        print(pd.DataFrame(train[col].describe()))"
   ]
  },
  {
   "cell_type": "code",
   "execution_count": 93,
   "id": "a2a71bfc",
   "metadata": {},
   "outputs": [
    {
     "data": {
      "text/html": [
       "<div>\n",
       "<style scoped>\n",
       "    .dataframe tbody tr th:only-of-type {\n",
       "        vertical-align: middle;\n",
       "    }\n",
       "\n",
       "    .dataframe tbody tr th {\n",
       "        vertical-align: top;\n",
       "    }\n",
       "\n",
       "    .dataframe thead th {\n",
       "        text-align: right;\n",
       "    }\n",
       "</style>\n",
       "<table border=\"1\" class=\"dataframe\">\n",
       "  <thead>\n",
       "    <tr style=\"text-align: right;\">\n",
       "      <th></th>\n",
       "      <th>survived</th>\n",
       "      <th>pclass</th>\n",
       "      <th>sex</th>\n",
       "      <th>n_sibs_and_spouse</th>\n",
       "      <th>n_parents_and_children</th>\n",
       "      <th>fare</th>\n",
       "      <th>embark_town</th>\n",
       "      <th>alone</th>\n",
       "      <th>family_size</th>\n",
       "      <th>sex_male</th>\n",
       "      <th>embark_town_Queenstown</th>\n",
       "      <th>embark_town_Southampton</th>\n",
       "    </tr>\n",
       "  </thead>\n",
       "  <tbody>\n",
       "    <tr>\n",
       "      <th>583</th>\n",
       "      <td>0</td>\n",
       "      <td>1</td>\n",
       "      <td>male</td>\n",
       "      <td>0</td>\n",
       "      <td>0</td>\n",
       "      <td>40.125</td>\n",
       "      <td>Cherbourg</td>\n",
       "      <td>1</td>\n",
       "      <td>0</td>\n",
       "      <td>1</td>\n",
       "      <td>0</td>\n",
       "      <td>0</td>\n",
       "    </tr>\n",
       "    <tr>\n",
       "      <th>165</th>\n",
       "      <td>1</td>\n",
       "      <td>3</td>\n",
       "      <td>male</td>\n",
       "      <td>0</td>\n",
       "      <td>2</td>\n",
       "      <td>20.525</td>\n",
       "      <td>Southampton</td>\n",
       "      <td>0</td>\n",
       "      <td>2</td>\n",
       "      <td>1</td>\n",
       "      <td>0</td>\n",
       "      <td>1</td>\n",
       "    </tr>\n",
       "    <tr>\n",
       "      <th>50</th>\n",
       "      <td>0</td>\n",
       "      <td>3</td>\n",
       "      <td>male</td>\n",
       "      <td>4</td>\n",
       "      <td>1</td>\n",
       "      <td>39.688</td>\n",
       "      <td>Southampton</td>\n",
       "      <td>0</td>\n",
       "      <td>5</td>\n",
       "      <td>1</td>\n",
       "      <td>0</td>\n",
       "      <td>1</td>\n",
       "    </tr>\n",
       "    <tr>\n",
       "      <th>259</th>\n",
       "      <td>1</td>\n",
       "      <td>2</td>\n",
       "      <td>female</td>\n",
       "      <td>0</td>\n",
       "      <td>1</td>\n",
       "      <td>26.000</td>\n",
       "      <td>Southampton</td>\n",
       "      <td>0</td>\n",
       "      <td>1</td>\n",
       "      <td>0</td>\n",
       "      <td>0</td>\n",
       "      <td>1</td>\n",
       "    </tr>\n",
       "    <tr>\n",
       "      <th>306</th>\n",
       "      <td>1</td>\n",
       "      <td>1</td>\n",
       "      <td>female</td>\n",
       "      <td>0</td>\n",
       "      <td>0</td>\n",
       "      <td>110.883</td>\n",
       "      <td>Cherbourg</td>\n",
       "      <td>1</td>\n",
       "      <td>0</td>\n",
       "      <td>0</td>\n",
       "      <td>0</td>\n",
       "      <td>0</td>\n",
       "    </tr>\n",
       "  </tbody>\n",
       "</table>\n",
       "</div>"
      ],
      "text/plain": [
       "     survived  pclass     sex  n_sibs_and_spouse  n_parents_and_children  \\\n",
       "583         0       1    male                  0                       0   \n",
       "165         1       3    male                  0                       2   \n",
       "50          0       3    male                  4                       1   \n",
       "259         1       2  female                  0                       1   \n",
       "306         1       1  female                  0                       0   \n",
       "\n",
       "        fare  embark_town  alone  family_size  sex_male  \\\n",
       "583   40.125    Cherbourg      1            0         1   \n",
       "165   20.525  Southampton      0            2         1   \n",
       "50    39.688  Southampton      0            5         1   \n",
       "259   26.000  Southampton      0            1         0   \n",
       "306  110.883    Cherbourg      1            0         0   \n",
       "\n",
       "     embark_town_Queenstown  embark_town_Southampton  \n",
       "583                       0                        0  \n",
       "165                       0                        1  \n",
       "50                        0                        1  \n",
       "259                       0                        1  \n",
       "306                       0                        0  "
      ]
     },
     "execution_count": 93,
     "metadata": {},
     "output_type": "execute_result"
    }
   ],
   "source": [
    "train.head()"
   ]
  },
  {
   "cell_type": "code",
   "execution_count": 94,
   "id": "ec3a1980",
   "metadata": {
    "scrolled": false
   },
   "outputs": [
    {
     "name": "stdout",
     "output_type": "stream",
     "text": [
      "   pclass counts\n",
      "3            269\n",
      "1            117\n",
      "2            112\n"
     ]
    },
    {
     "data": {
      "image/png": "[encoded data removed]",
      "text/plain": [
       "<Figure size 432x288 with 1 Axes>"
      ]
     },
     "metadata": {
      "needs_background": "light"
     },
     "output_type": "display_data"
    },
    {
     "name": "stdout",
     "output_type": "stream",
     "text": [
      "        sex counts\n",
      "male           323\n",
      "female         175\n"
     ]
    },
    {
     "data": {
      "image/png": "[encoded data removed]",
      "text/plain": [
       "<Figure size 432x288 with 1 Axes>"
      ]
     },
     "metadata": {
      "needs_background": "light"
     },
     "output_type": "display_data"
    },
    {
     "name": "stdout",
     "output_type": "stream",
     "text": [
      "   alone counts\n",
      "1           315\n",
      "0           183\n"
     ]
    },
    {
     "data": {
      "image/png": "[encoded data removed]",
      "text/plain": [
       "<Figure size 432x288 with 1 Axes>"
      ]
     },
     "metadata": {
      "needs_background": "light"
     },
     "output_type": "display_data"
    },
    {
     "name": "stdout",
     "output_type": "stream",
     "text": [
      "             embark_town counts\n",
      "Southampton                 354\n",
      "Cherbourg                   102\n",
      "Queenstown                   41\n"
     ]
    },
    {
     "data": {
      "image/png": "[encoded data removed]",
      "text/plain": [
       "<Figure size 432x288 with 1 Axes>"
      ]
     },
     "metadata": {
      "needs_background": "light"
     },
     "output_type": "display_data"
    }
   ],
   "source": [
    "# identify the columns that contain data for categorical variables\n",
    "categorical_columns = ['pclass', 'sex', 'alone', 'embark_town']\n",
    "\n",
    "# for each of those columns\n",
    "for col in categorical_columns:\n",
    "    \n",
    "    # display a frequency table\n",
    "    print(pd.DataFrame(train[col].value_counts())\n",
    "          .rename(columns={col: f'{col} counts'}))\n",
    "          \n",
    "    # display a bar plot of those frequencies\n",
    "    sns.countplot(data=train,\n",
    "                  x=col,)\n",
    "    plt.title(f'{col} counts')\n",
    "    plt.xlabel(None)\n",
    "    plt.show()"
   ]
  },
  {
   "cell_type": "markdown",
   "id": "ecf82063",
   "metadata": {},
   "source": [
    "####     Determine if certain columns should be dropped\n"
   ]
  },
  {
   "cell_type": "code",
   "execution_count": null,
   "id": "8f51101e",
   "metadata": {},
   "outputs": [],
   "source": []
  },
  {
   "cell_type": "markdown",
   "id": "04bf25a2",
   "metadata": {},
   "source": [
    "####     Determine if it would be valuable to bin some numeric columns\n"
   ]
  },
  {
   "cell_type": "code",
   "execution_count": null,
   "id": "3bb04452",
   "metadata": {},
   "outputs": [],
   "source": []
  },
  {
   "cell_type": "markdown",
   "id": "f32b47c8",
   "metadata": {},
   "source": [
    "####     Determine if it would be valuable to combine multiple columns into one.\n"
   ]
  },
  {
   "cell_type": "code",
   "execution_count": null,
   "id": "1a3fad9d",
   "metadata": {},
   "outputs": [],
   "source": []
  },
  {
   "cell_type": "markdown",
   "id": "8ecd0a90",
   "metadata": {},
   "source": [
    "#### Does it make sense to combine any features?\n"
   ]
  },
  {
   "cell_type": "code",
   "execution_count": null,
   "id": "915b88f3",
   "metadata": {},
   "outputs": [],
   "source": []
  },
  {
   "cell_type": "markdown",
   "id": "4a8d67bf",
   "metadata": {},
   "source": [
    "#### Do you find any surprises?\n"
   ]
  },
  {
   "cell_type": "code",
   "execution_count": null,
   "id": "f6d0462c",
   "metadata": {},
   "outputs": [],
   "source": []
  },
  {
   "cell_type": "markdown",
   "id": "12d238cf",
   "metadata": {},
   "source": [
    "#### Document any and all findings and takeaways in your notebook using markdown."
   ]
  },
  {
   "cell_type": "code",
   "execution_count": null,
   "id": "e399a83f",
   "metadata": {},
   "outputs": [],
   "source": []
  }
 ],
 "metadata": {
  "kernelspec": {
   "display_name": "Python 3 (ipykernel)",
   "language": "python",
   "name": "python3"
  },
  "language_info": {
   "codemirror_mode": {
    "name": "ipython",
    "version": 3
   },
   "file_extension": ".py",
   "mimetype": "text/x-python",
   "name": "python",
   "nbconvert_exporter": "python",
   "pygments_lexer": "ipython3",
   "version": "3.9.7"
  }
 },
 "nbformat": 4,
 "nbformat_minor": 5
}

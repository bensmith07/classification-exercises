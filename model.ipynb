{
 "cells": [
  {
   "cell_type": "code",
   "execution_count": 1,
   "id": "4f24921f",
   "metadata": {},
   "outputs": [],
   "source": [
    "import numpy as np\n",
    "import pandas as pd\n",
    "import matplotlib.pyplot as plt\n",
    "import seaborn as sns\n",
    "import scipy.stats as stats\n",
    "\n",
    "from sklearn.model_selection import train_test_split\n",
    "from sklearn.impute import SimpleImputer\n",
    "from sklearn.tree import DecisionTreeClassifier, plot_tree\n",
    "from sklearn.metrics import classification_report\n",
    "from sklearn.metrics import confusion_matrix\n",
    "import sklearn as sk\n",
    "\n",
    "import warnings\n",
    "warnings.filterwarnings('ignore')\n",
    "\n",
    "from env import get_db_url, user, password, host\n",
    "\n",
    "import acquire\n",
    "import prepare\n",
    "import explore\n",
    "\n",
    "# pandas display preferences\n",
    "pd.set_option('display.max_columns', None)\n",
    "pd.set_option('display.precision', 3)\n",
    "#pd.option_context('display.max_rows', None)\n"
   ]
  },
  {
   "cell_type": "markdown",
   "id": "d9b431fe",
   "metadata": {},
   "source": [
    "# Titanic - Decision Tree"
   ]
  },
  {
   "cell_type": "code",
   "execution_count": 2,
   "id": "76b3e694",
   "metadata": {},
   "outputs": [
    {
     "name": "stdout",
     "output_type": "stream",
     "text": [
      "Reading from local CSV...\n"
     ]
    }
   ],
   "source": [
    "df = acquire.get_titanic_data()"
   ]
  },
  {
   "cell_type": "code",
   "execution_count": 3,
   "id": "a3726939",
   "metadata": {},
   "outputs": [],
   "source": [
    "df = prepare.prep_titanic(df)"
   ]
  },
  {
   "cell_type": "code",
   "execution_count": 4,
   "id": "aeaff8af",
   "metadata": {},
   "outputs": [],
   "source": [
    "train, test = train_test_split(df, test_size=.2, random_state=42, stratify=df.survived)\n",
    "train, validate = train_test_split(train, test_size=.3, random_state=42, stratify=train.survived)"
   ]
  },
  {
   "cell_type": "code",
   "execution_count": 5,
   "id": "2febf728",
   "metadata": {},
   "outputs": [
    {
     "data": {
      "text/plain": [
       "(498, 10)"
      ]
     },
     "execution_count": 5,
     "metadata": {},
     "output_type": "execute_result"
    }
   ],
   "source": [
    "train.shape"
   ]
  },
  {
   "cell_type": "code",
   "execution_count": 6,
   "id": "e60aa4f3",
   "metadata": {},
   "outputs": [
    {
     "data": {
      "text/plain": [
       "(179, 10)"
      ]
     },
     "execution_count": 6,
     "metadata": {},
     "output_type": "execute_result"
    }
   ],
   "source": [
    "test.shape"
   ]
  },
  {
   "cell_type": "code",
   "execution_count": 7,
   "id": "dc567a1b",
   "metadata": {},
   "outputs": [
    {
     "data": {
      "text/plain": [
       "(214, 10)"
      ]
     },
     "execution_count": 7,
     "metadata": {},
     "output_type": "execute_result"
    }
   ],
   "source": [
    "validate.shape"
   ]
  },
  {
   "cell_type": "code",
   "execution_count": 8,
   "id": "045c7513",
   "metadata": {},
   "outputs": [],
   "source": [
    "target = 'survived'\n",
    "\n",
    "x_train = train.drop(columns=target)\n",
    "y_train = train[target]\n",
    "\n",
    "x_validate = validate.drop(columns=target)\n",
    "y_validate = validate[target]\n",
    "\n",
    "x_test = test.drop(columns=target)\n",
    "y_test = test[target]"
   ]
  },
  {
   "cell_type": "markdown",
   "id": "6f990373",
   "metadata": {},
   "source": [
    "### 1. What is your baseline prediction? What is your baseline accuracy? \n"
   ]
  },
  {
   "cell_type": "code",
   "execution_count": 9,
   "id": "a66fca80",
   "metadata": {},
   "outputs": [
    {
     "data": {
      "text/html": [
       "<div>\n",
       "<style scoped>\n",
       "    .dataframe tbody tr th:only-of-type {\n",
       "        vertical-align: middle;\n",
       "    }\n",
       "\n",
       "    .dataframe tbody tr th {\n",
       "        vertical-align: top;\n",
       "    }\n",
       "\n",
       "    .dataframe thead th {\n",
       "        text-align: right;\n",
       "    }\n",
       "</style>\n",
       "<table border=\"1\" class=\"dataframe\">\n",
       "  <thead>\n",
       "    <tr style=\"text-align: right;\">\n",
       "      <th></th>\n",
       "      <th>actual</th>\n",
       "      <th>baseline</th>\n",
       "    </tr>\n",
       "  </thead>\n",
       "  <tbody>\n",
       "    <tr>\n",
       "      <th>779</th>\n",
       "      <td>1</td>\n",
       "      <td>0</td>\n",
       "    </tr>\n",
       "    <tr>\n",
       "      <th>159</th>\n",
       "      <td>0</td>\n",
       "      <td>0</td>\n",
       "    </tr>\n",
       "    <tr>\n",
       "      <th>738</th>\n",
       "      <td>0</td>\n",
       "      <td>0</td>\n",
       "    </tr>\n",
       "  </tbody>\n",
       "</table>\n",
       "</div>"
      ],
      "text/plain": [
       "     actual  baseline\n",
       "779       1         0\n",
       "159       0         0\n",
       "738       0         0"
      ]
     },
     "execution_count": 9,
     "metadata": {},
     "output_type": "execute_result"
    }
   ],
   "source": [
    "target = 'survived'\n",
    "\n",
    "train_results = pd.DataFrame()\n",
    "train_results['actual'] = train[target]\n",
    "train_results['baseline'] = train[target].mode()[0]\n",
    "train_results.head(3)"
   ]
  },
  {
   "cell_type": "code",
   "execution_count": 13,
   "id": "01502a83",
   "metadata": {},
   "outputs": [
    {
     "name": "stdout",
     "output_type": "stream",
     "text": [
      "Baseline prediction: Survived = 0\n",
      "Baseline accuracy: 0.62\n"
     ]
    }
   ],
   "source": [
    "print(f'Baseline prediction: Survived = {train[target].mode()[0]}')\n",
    "print(f'Baseline accuracy: {sk.metrics.accuracy_score(train_results.actual, train_results.baseline, normalize=True):.2f}')"
   ]
  },
  {
   "cell_type": "markdown",
   "id": "2619c8d4",
   "metadata": {},
   "source": [
    "### 2. Fit the decision tree classifier to your training sample and transform (i.e. make predictions on the training sample)\n"
   ]
  },
  {
   "cell_type": "code",
   "execution_count": 56,
   "id": "6bcd50a1",
   "metadata": {},
   "outputs": [],
   "source": [
    "# max depth = 3\n",
    "clf = DecisionTreeClassifier(max_depth=3, random_state=42)\n",
    "clf = clf.fit(x_train, y_train)\n",
    "y_pred = clf.predict(x_train)"
   ]
  },
  {
   "cell_type": "markdown",
   "id": "3df7a0cc",
   "metadata": {},
   "source": [
    "### 3. Evaluate your in-sample results using the model score, confusion matrix, and classification report.\n"
   ]
  },
  {
   "cell_type": "code",
   "execution_count": 57,
   "id": "25984b35",
   "metadata": {},
   "outputs": [
    {
     "name": "stdout",
     "output_type": "stream",
     "text": [
      "Model Score: 0.81\n",
      "------------------------------\n",
      "Classification Report:\n",
      "              precision    recall  f1-score   support\n",
      "\n",
      "           0       0.82      0.89      0.85       307\n",
      "           1       0.79      0.68      0.73       191\n",
      "\n",
      "    accuracy                           0.81       498\n",
      "   macro avg       0.81      0.78      0.79       498\n",
      "weighted avg       0.81      0.81      0.81       498\n",
      "\n",
      "------------------------------\n",
      "Confusion Matrix:\n",
      "     0    1\n",
      "0  273   34\n",
      "1   61  130\n"
     ]
    }
   ],
   "source": [
    "line_break = ('-' * 30)\n",
    "\n",
    "print(f'Model Score: {clf.score(x_train, y_train):.2f}')\n",
    "print(line_break)\n",
    "print('Classification Report:')\n",
    "print(classification_report(y_train, y_pred))\n",
    "print(line_break)\n",
    "labels = sorted(y_train.unique())\n",
    "print('Confusion Matrix:')\n",
    "print(pd.DataFrame(confusion_matrix(y_train, y_pred), index=labels, columns=labels))\n",
    "# I'm not sure which represents actual vs predicted\n"
   ]
  },
  {
   "cell_type": "markdown",
   "id": "6c083831",
   "metadata": {},
   "source": [
    "### 4. Compute: Accuracy, true positive rate, false positive rate, true negative rate, false negative rate, precision, recall, f1-score, and support.\n"
   ]
  },
  {
   "cell_type": "code",
   "execution_count": 58,
   "id": "f7c0033a",
   "metadata": {},
   "outputs": [
    {
     "data": {
      "text/html": [
       "<div>\n",
       "<style scoped>\n",
       "    .dataframe tbody tr th:only-of-type {\n",
       "        vertical-align: middle;\n",
       "    }\n",
       "\n",
       "    .dataframe tbody tr th {\n",
       "        vertical-align: top;\n",
       "    }\n",
       "\n",
       "    .dataframe thead th {\n",
       "        text-align: right;\n",
       "    }\n",
       "</style>\n",
       "<table border=\"1\" class=\"dataframe\">\n",
       "  <thead>\n",
       "    <tr style=\"text-align: right;\">\n",
       "      <th></th>\n",
       "      <th>actual</th>\n",
       "      <th>baseline</th>\n",
       "      <th>predicted</th>\n",
       "    </tr>\n",
       "  </thead>\n",
       "  <tbody>\n",
       "    <tr>\n",
       "      <th>779</th>\n",
       "      <td>1</td>\n",
       "      <td>0</td>\n",
       "      <td>1</td>\n",
       "    </tr>\n",
       "    <tr>\n",
       "      <th>159</th>\n",
       "      <td>0</td>\n",
       "      <td>0</td>\n",
       "      <td>0</td>\n",
       "    </tr>\n",
       "    <tr>\n",
       "      <th>738</th>\n",
       "      <td>0</td>\n",
       "      <td>0</td>\n",
       "      <td>0</td>\n",
       "    </tr>\n",
       "  </tbody>\n",
       "</table>\n",
       "</div>"
      ],
      "text/plain": [
       "     actual  baseline  predicted\n",
       "779       1         0          1\n",
       "159       0         0          0\n",
       "738       0         0          0"
      ]
     },
     "execution_count": 58,
     "metadata": {},
     "output_type": "execute_result"
    }
   ],
   "source": [
    "train_results['predicted'] = y_pred\n",
    "train_results.head(3)"
   ]
  },
  {
   "cell_type": "code",
   "execution_count": 59,
   "id": "a8d6a374",
   "metadata": {},
   "outputs": [
    {
     "name": "stdout",
     "output_type": "stream",
     "text": [
      "Accuracy:\t\t0.81\n",
      "Precision:\t\t0.79\n",
      "F1 Score:\t\t0.73\n",
      "Support:\t\t?__?\n",
      "\n",
      "True Postive Rate:\t0.26\n",
      "False Positive Rate:\t0.07\n",
      "True Negative Rate:\t0.55\n",
      "False Negative Rate:\t0.12\n"
     ]
    }
   ],
   "source": [
    "positive = 1\n",
    "negative = 0\n",
    "n = len(train)\n",
    "\n",
    "accuracy = sk.metrics.accuracy_score(y_train, y_pred, normalize=True)\n",
    "tp_rate = len(train_results[(train_results.predicted == positive) & (train_results.actual == positive)]) / n\n",
    "fp_rate = len(train_results[(train_results.predicted == positive) & (train_results.actual == negative)]) / n\n",
    "tn_rate = len(train_results[(train_results.predicted == negative) & (train_results.actual == negative)]) / n\n",
    "fn_rate = len(train_results[(train_results.predicted == negative) & (train_results.actual == positive)]) / n\n",
    "precision = sk.metrics.precision_score(y_train, y_pred, pos_label = positive)\n",
    "f1_score = sk.metrics.f1_score(y_train, y_pred, pos_label=positive)\n",
    "support = '?__?' # I don't undertsand what 'support' is and how to calculate it\n",
    "\n",
    "print(f'Accuracy:\\t\\t{accuracy:.2f}')\n",
    "print(f'Precision:\\t\\t{precision:.2f}')\n",
    "print(f'F1 Score:\\t\\t{f1_score:.2f}')\n",
    "print(f'Support:\\t\\t{support}')\n",
    "print()\n",
    "print(f'True Postive Rate:\\t{tp_rate:.2f}')\n",
    "print(f'False Positive Rate:\\t{fp_rate:.2f}')\n",
    "print(f'True Negative Rate:\\t{tn_rate:.2f}')\n",
    "print(f'False Negative Rate:\\t{fn_rate:.2f}')"
   ]
  },
  {
   "cell_type": "markdown",
   "id": "f395fa23",
   "metadata": {},
   "source": [
    "### 5. Run through steps 2-4 using a different max_depth value.\n"
   ]
  },
  {
   "cell_type": "markdown",
   "id": "176b5b9c",
   "metadata": {},
   "source": [
    " 2. Fit the decision tree classifier to your training sample and transform (i.e. make predictions on the training sample)\n"
   ]
  },
  {
   "cell_type": "code",
   "execution_count": 60,
   "id": "cc7d1443",
   "metadata": {},
   "outputs": [],
   "source": [
    "# max depth = 4\n",
    "clf = DecisionTreeClassifier(max_depth=4, random_state=42)\n",
    "clf = clf.fit(x_train, y_train)\n",
    "y_pred = clf.predict(x_train)"
   ]
  },
  {
   "cell_type": "markdown",
   "id": "b4caa56f",
   "metadata": {},
   "source": [
    " 3. Evaluate your in-sample results using the model score, confusion matrix, and classification report.\n"
   ]
  },
  {
   "cell_type": "code",
   "execution_count": 61,
   "id": "f5cc8aaf",
   "metadata": {},
   "outputs": [
    {
     "name": "stdout",
     "output_type": "stream",
     "text": [
      "Model Score: 0.83\n",
      "------------------------------\n",
      "Classification Report:\n",
      "              precision    recall  f1-score   support\n",
      "\n",
      "           0       0.81      0.94      0.87       307\n",
      "           1       0.87      0.65      0.74       191\n",
      "\n",
      "    accuracy                           0.83       498\n",
      "   macro avg       0.84      0.79      0.81       498\n",
      "weighted avg       0.83      0.83      0.82       498\n",
      "\n",
      "------------------------------\n",
      "Confusion Matrix:\n",
      "     0    1\n",
      "0  288   19\n",
      "1   67  124\n"
     ]
    }
   ],
   "source": [
    "line_break = ('-' * 30)\n",
    "\n",
    "print(f'Model Score: {clf.score(x_train, y_train):.2f}')\n",
    "print(line_break)\n",
    "print('Classification Report:')\n",
    "print(classification_report(y_train, y_pred))\n",
    "print(line_break)\n",
    "labels = sorted(y_train.unique())\n",
    "print('Confusion Matrix:')\n",
    "print(pd.DataFrame(confusion_matrix(y_train, y_pred), index=labels, columns=labels))\n",
    "# I'm not sure which represents actual vs predicted"
   ]
  },
  {
   "cell_type": "markdown",
   "id": "7c8ff2e7",
   "metadata": {},
   "source": [
    " 4. Compute: Accuracy, true positive rate, false positive rate, true negative rate, false negative rate, precision, recall, f1-score, and support.\n"
   ]
  },
  {
   "cell_type": "code",
   "execution_count": 62,
   "id": "bc27bacb",
   "metadata": {},
   "outputs": [
    {
     "name": "stdout",
     "output_type": "stream",
     "text": [
      "Accuracy:\t\t0.83\n",
      "Precision:\t\t0.87\n",
      "F1 Score:\t\t0.74\n",
      "Support:\t\t?__?\n",
      "\n",
      "True Postive Rate:\t0.26\n",
      "False Positive Rate:\t0.07\n",
      "True Negative Rate:\t0.55\n",
      "False Negative Rate:\t0.12\n"
     ]
    }
   ],
   "source": [
    "positive = 1\n",
    "negative = 0\n",
    "n = len(train)\n",
    "\n",
    "accuracy = sk.metrics.accuracy_score(y_train, y_pred, normalize=True)\n",
    "tp_rate = len(train_results[(train_results.predicted == positive) & (train_results.actual == positive)]) / n\n",
    "fp_rate = len(train_results[(train_results.predicted == positive) & (train_results.actual == negative)]) / n\n",
    "tn_rate = len(train_results[(train_results.predicted == negative) & (train_results.actual == negative)]) / n\n",
    "fn_rate = len(train_results[(train_results.predicted == negative) & (train_results.actual == positive)]) / n\n",
    "precision = sk.metrics.precision_score(y_train, y_pred, pos_label = positive)\n",
    "f1_score = sk.metrics.f1_score(y_train, y_pred, pos_label=positive)\n",
    "support = '?__?' # I don't undertsand what 'support' is and how to calculate it\n",
    "\n",
    "print(f'Accuracy:\\t\\t{accuracy:.2f}')\n",
    "print(f'Precision:\\t\\t{precision:.2f}')\n",
    "print(f'F1 Score:\\t\\t{f1_score:.2f}')\n",
    "print(f'Support:\\t\\t{support}')\n",
    "print()\n",
    "print(f'True Postive Rate:\\t{tp_rate:.2f}')\n",
    "print(f'False Positive Rate:\\t{fp_rate:.2f}')\n",
    "print(f'True Negative Rate:\\t{tn_rate:.2f}')\n",
    "print(f'False Negative Rate:\\t{fn_rate:.2f}')"
   ]
  },
  {
   "cell_type": "markdown",
   "id": "2543dfc3",
   "metadata": {},
   "source": [
    "### 6. Which model performs better on your in-sample data?\n"
   ]
  },
  {
   "cell_type": "markdown",
   "id": "dfd22aae",
   "metadata": {},
   "source": [
    "The model with max depth of 4 performs better in metrics of Accuracy, Precision, and F1 Score. "
   ]
  },
  {
   "cell_type": "markdown",
   "id": "a9f530dd",
   "metadata": {},
   "source": [
    "### 7. Which model performs best on your out-of-sample data, the validate set?\n"
   ]
  },
  {
   "cell_type": "code",
   "execution_count": null,
   "id": "54d7021e",
   "metadata": {},
   "outputs": [],
   "source": []
  }
 ],
 "metadata": {
  "kernelspec": {
   "display_name": "Python 3 (ipykernel)",
   "language": "python",
   "name": "python3"
  },
  "language_info": {
   "codemirror_mode": {
    "name": "ipython",
    "version": 3
   },
   "file_extension": ".py",
   "mimetype": "text/x-python",
   "name": "python",
   "nbconvert_exporter": "python",
   "pygments_lexer": "ipython3",
   "version": "3.9.7"
  }
 },
 "nbformat": 4,
 "nbformat_minor": 5
}
